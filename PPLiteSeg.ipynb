{
 "cells": [
  {
   "cell_type": "code",
   "execution_count": 1,
   "metadata": {},
   "outputs": [
    {
     "name": "stdout",
     "output_type": "stream",
     "text": [
      "Requirement already satisfied: super-gradients==3.1 in c:\\users\\kiit\\appdata\\local\\packages\\pythonsoftwarefoundation.python.3.10_qbz5n2kfra8p0\\localcache\\local-packages\\python310\\site-packages (3.1.0)\n",
      "Requirement already satisfied: json-tricks==3.16.1 in c:\\users\\kiit\\appdata\\local\\packages\\pythonsoftwarefoundation.python.3.10_qbz5n2kfra8p0\\localcache\\local-packages\\python310\\site-packages (from super-gradients==3.1) (3.16.1)\n",
      "Requirement already satisfied: rapidfuzz in c:\\users\\kiit\\appdata\\local\\packages\\pythonsoftwarefoundation.python.3.10_qbz5n2kfra8p0\\localcache\\local-packages\\python310\\site-packages (from super-gradients==3.1) (2.13.1)\n",
      "Requirement already satisfied: tensorboard>=2.4.1 in c:\\users\\kiit\\appdata\\local\\packages\\pythonsoftwarefoundation.python.3.10_qbz5n2kfra8p0\\localcache\\local-packages\\python310\\site-packages (from super-gradients==3.1) (2.11.2)\n",
      "Requirement already satisfied: torch<1.14,>=1.9.0 in c:\\users\\kiit\\appdata\\local\\packages\\pythonsoftwarefoundation.python.3.10_qbz5n2kfra8p0\\localcache\\local-packages\\python310\\site-packages (from super-gradients==3.1) (1.13.1)\n",
      "Requirement already satisfied: hydra-core>=1.2.0 in c:\\users\\kiit\\appdata\\local\\packages\\pythonsoftwarefoundation.python.3.10_qbz5n2kfra8p0\\localcache\\local-packages\\python310\\site-packages (from super-gradients==3.1) (1.3.2)\n",
      "Requirement already satisfied: tqdm>=4.57.0 in c:\\users\\kiit\\appdata\\local\\packages\\pythonsoftwarefoundation.python.3.10_qbz5n2kfra8p0\\localcache\\local-packages\\python310\\site-packages (from super-gradients==3.1) (4.64.1)\n",
      "Requirement already satisfied: sphinx-rtd-theme in c:\\users\\kiit\\appdata\\local\\packages\\pythonsoftwarefoundation.python.3.10_qbz5n2kfra8p0\\localcache\\local-packages\\python310\\site-packages (from super-gradients==3.1) (1.2.0)\n",
      "Requirement already satisfied: stringcase>=1.2.0 in c:\\users\\kiit\\appdata\\local\\packages\\pythonsoftwarefoundation.python.3.10_qbz5n2kfra8p0\\localcache\\local-packages\\python310\\site-packages (from super-gradients==3.1) (1.2.0)\n",
      "Requirement already satisfied: onnx-simplifier<1.0,>=0.3.6 in c:\\users\\kiit\\appdata\\local\\packages\\pythonsoftwarefoundation.python.3.10_qbz5n2kfra8p0\\localcache\\local-packages\\python310\\site-packages (from super-gradients==3.1) (0.4.28)\n",
      "Requirement already satisfied: pillow>=9.2.0 in c:\\users\\kiit\\appdata\\local\\packages\\pythonsoftwarefoundation.python.3.10_qbz5n2kfra8p0\\localcache\\local-packages\\python310\\site-packages (from super-gradients==3.1) (9.2.0)\n",
      "Requirement already satisfied: wheel>=0.38.0 in c:\\users\\kiit\\appdata\\local\\packages\\pythonsoftwarefoundation.python.3.10_qbz5n2kfra8p0\\localcache\\local-packages\\python310\\site-packages (from super-gradients==3.1) (0.38.4)\n",
      "Requirement already satisfied: setuptools>=21.0.0 in c:\\program files\\windowsapps\\pythonsoftwarefoundation.python.3.10_3.10.3056.0_x64__qbz5n2kfra8p0\\lib\\site-packages (from super-gradients==3.1) (65.5.0)\n",
      "Requirement already satisfied: Deprecated>=1.2.11 in c:\\users\\kiit\\appdata\\local\\packages\\pythonsoftwarefoundation.python.3.10_qbz5n2kfra8p0\\localcache\\local-packages\\python310\\site-packages (from super-gradients==3.1) (1.2.13)\n",
      "Requirement already satisfied: einops==0.3.2 in c:\\users\\kiit\\appdata\\local\\packages\\pythonsoftwarefoundation.python.3.10_qbz5n2kfra8p0\\localcache\\local-packages\\python310\\site-packages (from super-gradients==3.1) (0.3.2)\n",
      "Requirement already satisfied: scipy>=1.6.1 in c:\\users\\kiit\\appdata\\local\\packages\\pythonsoftwarefoundation.python.3.10_qbz5n2kfra8p0\\localcache\\local-packages\\python310\\site-packages (from super-gradients==3.1) (1.9.3)\n",
      "Requirement already satisfied: torchvision>=0.10.0 in c:\\users\\kiit\\appdata\\local\\packages\\pythonsoftwarefoundation.python.3.10_qbz5n2kfra8p0\\localcache\\local-packages\\python310\\site-packages (from super-gradients==3.1) (0.14.1)\n",
      "Requirement already satisfied: pip-tools>=6.12.1 in c:\\users\\kiit\\appdata\\local\\packages\\pythonsoftwarefoundation.python.3.10_qbz5n2kfra8p0\\localcache\\local-packages\\python310\\site-packages (from super-gradients==3.1) (6.13.0)\n",
      "Requirement already satisfied: coverage~=5.3.1 in c:\\users\\kiit\\appdata\\local\\packages\\pythonsoftwarefoundation.python.3.10_qbz5n2kfra8p0\\localcache\\local-packages\\python310\\site-packages (from super-gradients==3.1) (5.3.1)\n",
      "Requirement already satisfied: pycocotools==2.0.4 in c:\\users\\kiit\\appdata\\local\\packages\\pythonsoftwarefoundation.python.3.10_qbz5n2kfra8p0\\localcache\\local-packages\\python310\\site-packages (from super-gradients==3.1) (2.0.4)\n",
      "Requirement already satisfied: opencv-python>=4.5.1 in c:\\users\\kiit\\appdata\\local\\packages\\pythonsoftwarefoundation.python.3.10_qbz5n2kfra8p0\\localcache\\local-packages\\python310\\site-packages (from super-gradients==3.1) (4.7.0.68)\n",
      "Requirement already satisfied: pygments>=2.7.4 in c:\\users\\kiit\\appdata\\local\\packages\\pythonsoftwarefoundation.python.3.10_qbz5n2kfra8p0\\localcache\\local-packages\\python310\\site-packages (from super-gradients==3.1) (2.14.0)\n",
      "Requirement already satisfied: torchmetrics==0.8 in c:\\users\\kiit\\appdata\\local\\packages\\pythonsoftwarefoundation.python.3.10_qbz5n2kfra8p0\\localcache\\local-packages\\python310\\site-packages (from super-gradients==3.1) (0.8.0)\n",
      "Requirement already satisfied: sphinx~=4.0.2 in c:\\users\\kiit\\appdata\\local\\packages\\pythonsoftwarefoundation.python.3.10_qbz5n2kfra8p0\\localcache\\local-packages\\python310\\site-packages (from super-gradients==3.1) (4.0.3)\n",
      "Requirement already satisfied: pyparsing==2.4.5 in c:\\users\\kiit\\appdata\\local\\packages\\pythonsoftwarefoundation.python.3.10_qbz5n2kfra8p0\\localcache\\local-packages\\python310\\site-packages (from super-gradients==3.1) (2.4.5)\n",
      "Requirement already satisfied: jsonschema>=3.2.0 in c:\\users\\kiit\\appdata\\local\\packages\\pythonsoftwarefoundation.python.3.10_qbz5n2kfra8p0\\localcache\\local-packages\\python310\\site-packages (from super-gradients==3.1) (4.17.3)\n",
      "Requirement already satisfied: psutil>=5.8.0 in c:\\users\\kiit\\appdata\\local\\packages\\pythonsoftwarefoundation.python.3.10_qbz5n2kfra8p0\\localcache\\local-packages\\python310\\site-packages (from super-gradients==3.1) (5.9.4)\n",
      "Requirement already satisfied: numpy<=1.23 in c:\\users\\kiit\\appdata\\local\\packages\\pythonsoftwarefoundation.python.3.10_qbz5n2kfra8p0\\localcache\\local-packages\\python310\\site-packages (from super-gradients==3.1) (1.23.0)\n",
      "Requirement already satisfied: boto3>=1.17.15 in c:\\users\\kiit\\appdata\\local\\packages\\pythonsoftwarefoundation.python.3.10_qbz5n2kfra8p0\\localcache\\local-packages\\python310\\site-packages (from super-gradients==3.1) (1.26.136)\n",
      "Requirement already satisfied: matplotlib>=3.3.4 in c:\\users\\kiit\\appdata\\local\\packages\\pythonsoftwarefoundation.python.3.10_qbz5n2kfra8p0\\localcache\\local-packages\\python310\\site-packages (from super-gradients==3.1) (3.5.3)\n",
      "Requirement already satisfied: onnxruntime==1.13.1 in c:\\users\\kiit\\appdata\\local\\packages\\pythonsoftwarefoundation.python.3.10_qbz5n2kfra8p0\\localcache\\local-packages\\python310\\site-packages (from super-gradients==3.1) (1.13.1)\n",
      "Requirement already satisfied: omegaconf in c:\\users\\kiit\\appdata\\local\\packages\\pythonsoftwarefoundation.python.3.10_qbz5n2kfra8p0\\localcache\\local-packages\\python310\\site-packages (from super-gradients==3.1) (2.3.0)\n",
      "Requirement already satisfied: onnx==1.13.0 in c:\\users\\kiit\\appdata\\local\\packages\\pythonsoftwarefoundation.python.3.10_qbz5n2kfra8p0\\localcache\\local-packages\\python310\\site-packages (from super-gradients==3.1) (1.13.0)\n",
      "Requirement already satisfied: packaging>=20.4 in c:\\users\\kiit\\appdata\\local\\packages\\pythonsoftwarefoundation.python.3.10_qbz5n2kfra8p0\\localcache\\local-packages\\python310\\site-packages (from super-gradients==3.1) (21.3)\n",
      "Requirement already satisfied: protobuf==3.20.3 in c:\\users\\kiit\\appdata\\local\\packages\\pythonsoftwarefoundation.python.3.10_qbz5n2kfra8p0\\localcache\\local-packages\\python310\\site-packages (from super-gradients==3.1) (3.20.3)\n",
      "Requirement already satisfied: treelib==1.6.1 in c:\\users\\kiit\\appdata\\local\\packages\\pythonsoftwarefoundation.python.3.10_qbz5n2kfra8p0\\localcache\\local-packages\\python310\\site-packages (from super-gradients==3.1) (1.6.1)\n",
      "Requirement already satisfied: termcolor==1.1.0 in c:\\users\\kiit\\appdata\\local\\packages\\pythonsoftwarefoundation.python.3.10_qbz5n2kfra8p0\\localcache\\local-packages\\python310\\site-packages (from super-gradients==3.1) (1.1.0)\n",
      "Requirement already satisfied: typing-extensions>=3.6.2.1 in c:\\users\\kiit\\appdata\\local\\packages\\pythonsoftwarefoundation.python.3.10_qbz5n2kfra8p0\\localcache\\local-packages\\python310\\site-packages (from onnx==1.13.0->super-gradients==3.1) (4.3.0)\n",
      "Requirement already satisfied: sympy in c:\\users\\kiit\\appdata\\local\\packages\\pythonsoftwarefoundation.python.3.10_qbz5n2kfra8p0\\localcache\\local-packages\\python310\\site-packages (from onnxruntime==1.13.1->super-gradients==3.1) (1.12)\n",
      "Requirement already satisfied: coloredlogs in c:\\users\\kiit\\appdata\\local\\packages\\pythonsoftwarefoundation.python.3.10_qbz5n2kfra8p0\\localcache\\local-packages\\python310\\site-packages (from onnxruntime==1.13.1->super-gradients==3.1) (15.0.1)\n",
      "Requirement already satisfied: flatbuffers in c:\\users\\kiit\\appdata\\local\\packages\\pythonsoftwarefoundation.python.3.10_qbz5n2kfra8p0\\localcache\\local-packages\\python310\\site-packages (from onnxruntime==1.13.1->super-gradients==3.1) (23.1.4)\n",
      "Requirement already satisfied: pyDeprecate==0.3.* in c:\\users\\kiit\\appdata\\local\\packages\\pythonsoftwarefoundation.python.3.10_qbz5n2kfra8p0\\localcache\\local-packages\\python310\\site-packages (from torchmetrics==0.8->super-gradients==3.1) (0.3.2)\n",
      "Requirement already satisfied: future in c:\\users\\kiit\\appdata\\local\\packages\\pythonsoftwarefoundation.python.3.10_qbz5n2kfra8p0\\localcache\\local-packages\\python310\\site-packages (from treelib==1.6.1->super-gradients==3.1) (0.18.3)\n",
      "Requirement already satisfied: jmespath<2.0.0,>=0.7.1 in c:\\users\\kiit\\appdata\\local\\packages\\pythonsoftwarefoundation.python.3.10_qbz5n2kfra8p0\\localcache\\local-packages\\python310\\site-packages (from boto3>=1.17.15->super-gradients==3.1) (1.0.1)\n",
      "Requirement already satisfied: s3transfer<0.7.0,>=0.6.0 in c:\\users\\kiit\\appdata\\local\\packages\\pythonsoftwarefoundation.python.3.10_qbz5n2kfra8p0\\localcache\\local-packages\\python310\\site-packages (from boto3>=1.17.15->super-gradients==3.1) (0.6.1)\n",
      "Requirement already satisfied: botocore<1.30.0,>=1.29.136 in c:\\users\\kiit\\appdata\\local\\packages\\pythonsoftwarefoundation.python.3.10_qbz5n2kfra8p0\\localcache\\local-packages\\python310\\site-packages (from boto3>=1.17.15->super-gradients==3.1) (1.29.136)\n",
      "Requirement already satisfied: wrapt<2,>=1.10 in c:\\users\\kiit\\appdata\\local\\packages\\pythonsoftwarefoundation.python.3.10_qbz5n2kfra8p0\\localcache\\local-packages\\python310\\site-packages (from Deprecated>=1.2.11->super-gradients==3.1) (1.14.1)\n",
      "Requirement already satisfied: antlr4-python3-runtime==4.9.* in c:\\users\\kiit\\appdata\\local\\packages\\pythonsoftwarefoundation.python.3.10_qbz5n2kfra8p0\\localcache\\local-packages\\python310\\site-packages (from hydra-core>=1.2.0->super-gradients==3.1) (4.9.3)\n",
      "Requirement already satisfied: pyrsistent!=0.17.0,!=0.17.1,!=0.17.2,>=0.14.0 in c:\\users\\kiit\\appdata\\local\\packages\\pythonsoftwarefoundation.python.3.10_qbz5n2kfra8p0\\localcache\\local-packages\\python310\\site-packages (from jsonschema>=3.2.0->super-gradients==3.1) (0.19.3)\n",
      "Requirement already satisfied: attrs>=17.4.0 in c:\\users\\kiit\\appdata\\local\\packages\\pythonsoftwarefoundation.python.3.10_qbz5n2kfra8p0\\localcache\\local-packages\\python310\\site-packages (from jsonschema>=3.2.0->super-gradients==3.1) (22.1.0)\n",
      "Requirement already satisfied: kiwisolver>=1.0.1 in c:\\users\\kiit\\appdata\\local\\packages\\pythonsoftwarefoundation.python.3.10_qbz5n2kfra8p0\\localcache\\local-packages\\python310\\site-packages (from matplotlib>=3.3.4->super-gradients==3.1) (1.4.4)\n",
      "Requirement already satisfied: cycler>=0.10 in c:\\users\\kiit\\appdata\\local\\packages\\pythonsoftwarefoundation.python.3.10_qbz5n2kfra8p0\\localcache\\local-packages\\python310\\site-packages (from matplotlib>=3.3.4->super-gradients==3.1) (0.10.0)\n",
      "Requirement already satisfied: python-dateutil>=2.7 in c:\\users\\kiit\\appdata\\local\\packages\\pythonsoftwarefoundation.python.3.10_qbz5n2kfra8p0\\localcache\\local-packages\\python310\\site-packages (from matplotlib>=3.3.4->super-gradients==3.1) (2.8.2)\n",
      "Requirement already satisfied: fonttools>=4.22.0 in c:\\users\\kiit\\appdata\\local\\packages\\pythonsoftwarefoundation.python.3.10_qbz5n2kfra8p0\\localcache\\local-packages\\python310\\site-packages (from matplotlib>=3.3.4->super-gradients==3.1) (4.37.1)\n",
      "Requirement already satisfied: PyYAML>=5.1.0 in c:\\users\\kiit\\appdata\\local\\packages\\pythonsoftwarefoundation.python.3.10_qbz5n2kfra8p0\\localcache\\local-packages\\python310\\site-packages (from omegaconf->super-gradients==3.1) (6.0)\n",
      "Requirement already satisfied: rich in c:\\users\\kiit\\appdata\\local\\packages\\pythonsoftwarefoundation.python.3.10_qbz5n2kfra8p0\\localcache\\local-packages\\python310\\site-packages (from onnx-simplifier<1.0,>=0.3.6->super-gradients==3.1) (13.3.5)\n",
      "Requirement already satisfied: pip>=22.2 in c:\\users\\kiit\\appdata\\local\\packages\\pythonsoftwarefoundation.python.3.10_qbz5n2kfra8p0\\localcache\\local-packages\\python310\\site-packages (from pip-tools>=6.12.1->super-gradients==3.1) (23.0)\n",
      "Requirement already satisfied: build in c:\\users\\kiit\\appdata\\local\\packages\\pythonsoftwarefoundation.python.3.10_qbz5n2kfra8p0\\localcache\\local-packages\\python310\\site-packages (from pip-tools>=6.12.1->super-gradients==3.1) (0.10.0)\n",
      "Requirement already satisfied: click>=8 in c:\\users\\kiit\\appdata\\local\\packages\\pythonsoftwarefoundation.python.3.10_qbz5n2kfra8p0\\localcache\\local-packages\\python310\\site-packages (from pip-tools>=6.12.1->super-gradients==3.1) (8.1.3)\n",
      "Requirement already satisfied: snowballstemmer>=1.1 in c:\\users\\kiit\\appdata\\local\\packages\\pythonsoftwarefoundation.python.3.10_qbz5n2kfra8p0\\localcache\\local-packages\\python310\\site-packages (from sphinx~=4.0.2->super-gradients==3.1) (2.2.0)\n",
      "Requirement already satisfied: imagesize in c:\\users\\kiit\\appdata\\local\\packages\\pythonsoftwarefoundation.python.3.10_qbz5n2kfra8p0\\localcache\\local-packages\\python310\\site-packages (from sphinx~=4.0.2->super-gradients==3.1) (1.4.1)\n",
      "Requirement already satisfied: alabaster<0.8,>=0.7 in c:\\users\\kiit\\appdata\\local\\packages\\pythonsoftwarefoundation.python.3.10_qbz5n2kfra8p0\\localcache\\local-packages\\python310\\site-packages (from sphinx~=4.0.2->super-gradients==3.1) (0.7.13)\n",
      "Requirement already satisfied: requests>=2.5.0 in c:\\users\\kiit\\appdata\\local\\packages\\pythonsoftwarefoundation.python.3.10_qbz5n2kfra8p0\\localcache\\local-packages\\python310\\site-packages (from sphinx~=4.0.2->super-gradients==3.1) (2.28.1)\n",
      "Requirement already satisfied: sphinxcontrib-serializinghtml in c:\\users\\kiit\\appdata\\local\\packages\\pythonsoftwarefoundation.python.3.10_qbz5n2kfra8p0\\localcache\\local-packages\\python310\\site-packages (from sphinx~=4.0.2->super-gradients==3.1) (1.1.5)\n",
      "Requirement already satisfied: sphinxcontrib-applehelp in c:\\users\\kiit\\appdata\\local\\packages\\pythonsoftwarefoundation.python.3.10_qbz5n2kfra8p0\\localcache\\local-packages\\python310\\site-packages (from sphinx~=4.0.2->super-gradients==3.1) (1.0.4)\n",
      "Requirement already satisfied: sphinxcontrib-devhelp in c:\\users\\kiit\\appdata\\local\\packages\\pythonsoftwarefoundation.python.3.10_qbz5n2kfra8p0\\localcache\\local-packages\\python310\\site-packages (from sphinx~=4.0.2->super-gradients==3.1) (1.0.2)\n",
      "Requirement already satisfied: sphinxcontrib-htmlhelp in c:\\users\\kiit\\appdata\\local\\packages\\pythonsoftwarefoundation.python.3.10_qbz5n2kfra8p0\\localcache\\local-packages\\python310\\site-packages (from sphinx~=4.0.2->super-gradients==3.1) (2.0.1)\n",
      "Requirement already satisfied: babel>=1.3 in c:\\users\\kiit\\appdata\\local\\packages\\pythonsoftwarefoundation.python.3.10_qbz5n2kfra8p0\\localcache\\local-packages\\python310\\site-packages (from sphinx~=4.0.2->super-gradients==3.1) (2.12.1)\n",
      "Requirement already satisfied: colorama>=0.3.5 in c:\\users\\kiit\\appdata\\local\\packages\\pythonsoftwarefoundation.python.3.10_qbz5n2kfra8p0\\localcache\\local-packages\\python310\\site-packages (from sphinx~=4.0.2->super-gradients==3.1) (0.4.5)\n",
      "Requirement already satisfied: Jinja2>=2.3 in c:\\users\\kiit\\appdata\\local\\packages\\pythonsoftwarefoundation.python.3.10_qbz5n2kfra8p0\\localcache\\local-packages\\python310\\site-packages (from sphinx~=4.0.2->super-gradients==3.1) (3.1.2)\n",
      "Requirement already satisfied: docutils<0.18,>=0.14 in c:\\users\\kiit\\appdata\\local\\packages\\pythonsoftwarefoundation.python.3.10_qbz5n2kfra8p0\\localcache\\local-packages\\python310\\site-packages (from sphinx~=4.0.2->super-gradients==3.1) (0.17.1)\n",
      "Requirement already satisfied: sphinxcontrib-jsmath in c:\\users\\kiit\\appdata\\local\\packages\\pythonsoftwarefoundation.python.3.10_qbz5n2kfra8p0\\localcache\\local-packages\\python310\\site-packages (from sphinx~=4.0.2->super-gradients==3.1) (1.0.1)\n",
      "Requirement already satisfied: sphinxcontrib-qthelp in c:\\users\\kiit\\appdata\\local\\packages\\pythonsoftwarefoundation.python.3.10_qbz5n2kfra8p0\\localcache\\local-packages\\python310\\site-packages (from sphinx~=4.0.2->super-gradients==3.1) (1.0.3)\n",
      "Requirement already satisfied: werkzeug>=1.0.1 in c:\\users\\kiit\\appdata\\local\\packages\\pythonsoftwarefoundation.python.3.10_qbz5n2kfra8p0\\localcache\\local-packages\\python310\\site-packages (from tensorboard>=2.4.1->super-gradients==3.1) (2.2.2)\n",
      "Requirement already satisfied: tensorboard-data-server<0.7.0,>=0.6.0 in c:\\users\\kiit\\appdata\\local\\packages\\pythonsoftwarefoundation.python.3.10_qbz5n2kfra8p0\\localcache\\local-packages\\python310\\site-packages (from tensorboard>=2.4.1->super-gradients==3.1) (0.6.1)\n",
      "Requirement already satisfied: tensorboard-plugin-wit>=1.6.0 in c:\\users\\kiit\\appdata\\local\\packages\\pythonsoftwarefoundation.python.3.10_qbz5n2kfra8p0\\localcache\\local-packages\\python310\\site-packages (from tensorboard>=2.4.1->super-gradients==3.1) (1.8.1)\n",
      "Requirement already satisfied: google-auth-oauthlib<0.5,>=0.4.1 in c:\\users\\kiit\\appdata\\local\\packages\\pythonsoftwarefoundation.python.3.10_qbz5n2kfra8p0\\localcache\\local-packages\\python310\\site-packages (from tensorboard>=2.4.1->super-gradients==3.1) (0.4.6)\n",
      "Requirement already satisfied: google-auth<3,>=1.6.3 in c:\\users\\kiit\\appdata\\local\\packages\\pythonsoftwarefoundation.python.3.10_qbz5n2kfra8p0\\localcache\\local-packages\\python310\\site-packages (from tensorboard>=2.4.1->super-gradients==3.1) (2.16.0)\n",
      "Requirement already satisfied: markdown>=2.6.8 in c:\\users\\kiit\\appdata\\local\\packages\\pythonsoftwarefoundation.python.3.10_qbz5n2kfra8p0\\localcache\\local-packages\\python310\\site-packages (from tensorboard>=2.4.1->super-gradients==3.1) (3.4.1)\n",
      "Requirement already satisfied: absl-py>=0.4 in c:\\users\\kiit\\appdata\\local\\packages\\pythonsoftwarefoundation.python.3.10_qbz5n2kfra8p0\\localcache\\local-packages\\python310\\site-packages (from tensorboard>=2.4.1->super-gradients==3.1) (1.4.0)\n",
      "Requirement already satisfied: grpcio>=1.24.3 in c:\\users\\kiit\\appdata\\local\\packages\\pythonsoftwarefoundation.python.3.10_qbz5n2kfra8p0\\localcache\\local-packages\\python310\\site-packages (from tensorboard>=2.4.1->super-gradients==3.1) (1.51.1)\n",
      "Requirement already satisfied: sphinxcontrib-jquery!=3.0.0,>=2.0.0 in c:\\users\\kiit\\appdata\\local\\packages\\pythonsoftwarefoundation.python.3.10_qbz5n2kfra8p0\\localcache\\local-packages\\python310\\site-packages (from sphinx-rtd-theme->super-gradients==3.1) (4.1)\n",
      "Requirement already satisfied: urllib3<1.27,>=1.25.4 in c:\\users\\kiit\\appdata\\local\\packages\\pythonsoftwarefoundation.python.3.10_qbz5n2kfra8p0\\localcache\\local-packages\\python310\\site-packages (from botocore<1.30.0,>=1.29.136->boto3>=1.17.15->super-gradients==3.1) (1.26.12)\n",
      "Requirement already satisfied: six in c:\\users\\kiit\\appdata\\local\\packages\\pythonsoftwarefoundation.python.3.10_qbz5n2kfra8p0\\localcache\\local-packages\\python310\\site-packages (from cycler>=0.10->matplotlib>=3.3.4->super-gradients==3.1) (1.16.0)\n",
      "Requirement already satisfied: pyasn1-modules>=0.2.1 in c:\\users\\kiit\\appdata\\local\\packages\\pythonsoftwarefoundation.python.3.10_qbz5n2kfra8p0\\localcache\\local-packages\\python310\\site-packages (from google-auth<3,>=1.6.3->tensorboard>=2.4.1->super-gradients==3.1) (0.2.8)\n",
      "Requirement already satisfied: cachetools<6.0,>=2.0.0 in c:\\users\\kiit\\appdata\\local\\packages\\pythonsoftwarefoundation.python.3.10_qbz5n2kfra8p0\\localcache\\local-packages\\python310\\site-packages (from google-auth<3,>=1.6.3->tensorboard>=2.4.1->super-gradients==3.1) (5.2.1)\n",
      "Requirement already satisfied: rsa<5,>=3.1.4 in c:\\users\\kiit\\appdata\\local\\packages\\pythonsoftwarefoundation.python.3.10_qbz5n2kfra8p0\\localcache\\local-packages\\python310\\site-packages (from google-auth<3,>=1.6.3->tensorboard>=2.4.1->super-gradients==3.1) (4.9)\n",
      "Requirement already satisfied: requests-oauthlib>=0.7.0 in c:\\users\\kiit\\appdata\\local\\packages\\pythonsoftwarefoundation.python.3.10_qbz5n2kfra8p0\\localcache\\local-packages\\python310\\site-packages (from google-auth-oauthlib<0.5,>=0.4.1->tensorboard>=2.4.1->super-gradients==3.1) (1.3.1)\n",
      "Requirement already satisfied: MarkupSafe>=2.0 in c:\\users\\kiit\\appdata\\local\\packages\\pythonsoftwarefoundation.python.3.10_qbz5n2kfra8p0\\localcache\\local-packages\\python310\\site-packages (from Jinja2>=2.3->sphinx~=4.0.2->super-gradients==3.1) (2.1.1)\n",
      "Requirement already satisfied: certifi>=2017.4.17 in c:\\users\\kiit\\appdata\\local\\packages\\pythonsoftwarefoundation.python.3.10_qbz5n2kfra8p0\\localcache\\local-packages\\python310\\site-packages (from requests>=2.5.0->sphinx~=4.0.2->super-gradients==3.1) (2022.12.7)\n",
      "Requirement already satisfied: idna<4,>=2.5 in c:\\users\\kiit\\appdata\\local\\packages\\pythonsoftwarefoundation.python.3.10_qbz5n2kfra8p0\\localcache\\local-packages\\python310\\site-packages (from requests>=2.5.0->sphinx~=4.0.2->super-gradients==3.1) (2.10)\n",
      "Requirement already satisfied: charset-normalizer<3,>=2 in c:\\users\\kiit\\appdata\\local\\packages\\pythonsoftwarefoundation.python.3.10_qbz5n2kfra8p0\\localcache\\local-packages\\python310\\site-packages (from requests>=2.5.0->sphinx~=4.0.2->super-gradients==3.1) (2.1.1)\n",
      "Requirement already satisfied: tomli>=1.1.0 in c:\\users\\kiit\\appdata\\local\\packages\\pythonsoftwarefoundation.python.3.10_qbz5n2kfra8p0\\localcache\\local-packages\\python310\\site-packages (from build->pip-tools>=6.12.1->super-gradients==3.1) (2.0.1)\n",
      "Requirement already satisfied: pyproject_hooks in c:\\users\\kiit\\appdata\\local\\packages\\pythonsoftwarefoundation.python.3.10_qbz5n2kfra8p0\\localcache\\local-packages\\python310\\site-packages (from build->pip-tools>=6.12.1->super-gradients==3.1) (1.0.0)\n",
      "Requirement already satisfied: humanfriendly>=9.1 in c:\\users\\kiit\\appdata\\local\\packages\\pythonsoftwarefoundation.python.3.10_qbz5n2kfra8p0\\localcache\\local-packages\\python310\\site-packages (from coloredlogs->onnxruntime==1.13.1->super-gradients==3.1) (10.0)\n",
      "Requirement already satisfied: markdown-it-py<3.0.0,>=2.2.0 in c:\\users\\kiit\\appdata\\local\\packages\\pythonsoftwarefoundation.python.3.10_qbz5n2kfra8p0\\localcache\\local-packages\\python310\\site-packages (from rich->onnx-simplifier<1.0,>=0.3.6->super-gradients==3.1) (2.2.0)\n",
      "Requirement already satisfied: mpmath>=0.19 in c:\\users\\kiit\\appdata\\local\\packages\\pythonsoftwarefoundation.python.3.10_qbz5n2kfra8p0\\localcache\\local-packages\\python310\\site-packages (from sympy->onnxruntime==1.13.1->super-gradients==3.1) (1.3.0)\n",
      "Requirement already satisfied: pyreadline3 in c:\\users\\kiit\\appdata\\local\\packages\\pythonsoftwarefoundation.python.3.10_qbz5n2kfra8p0\\localcache\\local-packages\\python310\\site-packages (from humanfriendly>=9.1->coloredlogs->onnxruntime==1.13.1->super-gradients==3.1) (3.4.1)\n",
      "Requirement already satisfied: mdurl~=0.1 in c:\\users\\kiit\\appdata\\local\\packages\\pythonsoftwarefoundation.python.3.10_qbz5n2kfra8p0\\localcache\\local-packages\\python310\\site-packages (from markdown-it-py<3.0.0,>=2.2.0->rich->onnx-simplifier<1.0,>=0.3.6->super-gradients==3.1) (0.1.2)\n",
      "Requirement already satisfied: pyasn1<0.5.0,>=0.4.6 in c:\\users\\kiit\\appdata\\local\\packages\\pythonsoftwarefoundation.python.3.10_qbz5n2kfra8p0\\localcache\\local-packages\\python310\\site-packages (from pyasn1-modules>=0.2.1->google-auth<3,>=1.6.3->tensorboard>=2.4.1->super-gradients==3.1) (0.4.8)\n",
      "Requirement already satisfied: oauthlib>=3.0.0 in c:\\users\\kiit\\appdata\\local\\packages\\pythonsoftwarefoundation.python.3.10_qbz5n2kfra8p0\\localcache\\local-packages\\python310\\site-packages (from requests-oauthlib>=0.7.0->google-auth-oauthlib<0.5,>=0.4.1->tensorboard>=2.4.1->super-gradients==3.1) (3.2.2)\n"
     ]
    },
    {
     "name": "stderr",
     "output_type": "stream",
     "text": [
      "\n",
      "[notice] A new release of pip is available: 23.0 -> 23.1.2\n",
      "[notice] To update, run: C:\\Users\\KIIT\\AppData\\Local\\Microsoft\\WindowsApps\\PythonSoftwareFoundation.Python.3.10_qbz5n2kfra8p0\\python.exe -m pip install --upgrade pip\n"
     ]
    },
    {
     "name": "stdout",
     "output_type": "stream",
     "text": [
      "Requirement already satisfied: prettyformatter in c:\\users\\kiit\\appdata\\local\\packages\\pythonsoftwarefoundation.python.3.10_qbz5n2kfra8p0\\localcache\\local-packages\\python310\\site-packages (2.0.13)\n"
     ]
    },
    {
     "name": "stderr",
     "output_type": "stream",
     "text": [
      "\n",
      "[notice] A new release of pip is available: 23.0 -> 23.1.2\n",
      "[notice] To update, run: C:\\Users\\KIIT\\AppData\\Local\\Microsoft\\WindowsApps\\PythonSoftwareFoundation.Python.3.10_qbz5n2kfra8p0\\python.exe -m pip install --upgrade pip\n"
     ]
    },
    {
     "name": "stdout",
     "output_type": "stream",
     "text": [
      "Requirement already satisfied: onnx-simplifier in c:\\users\\kiit\\appdata\\local\\packages\\pythonsoftwarefoundation.python.3.10_qbz5n2kfra8p0\\localcache\\local-packages\\python310\\site-packages (0.4.28)\n",
      "Requirement already satisfied: onnx in c:\\users\\kiit\\appdata\\local\\packages\\pythonsoftwarefoundation.python.3.10_qbz5n2kfra8p0\\localcache\\local-packages\\python310\\site-packages (from onnx-simplifier) (1.13.0)\n",
      "Requirement already satisfied: rich in c:\\users\\kiit\\appdata\\local\\packages\\pythonsoftwarefoundation.python.3.10_qbz5n2kfra8p0\\localcache\\local-packages\\python310\\site-packages (from onnx-simplifier) (13.3.5)\n",
      "Requirement already satisfied: protobuf<4,>=3.20.2 in c:\\users\\kiit\\appdata\\local\\packages\\pythonsoftwarefoundation.python.3.10_qbz5n2kfra8p0\\localcache\\local-packages\\python310\\site-packages (from onnx->onnx-simplifier) (3.20.3)\n",
      "Requirement already satisfied: typing-extensions>=3.6.2.1 in c:\\users\\kiit\\appdata\\local\\packages\\pythonsoftwarefoundation.python.3.10_qbz5n2kfra8p0\\localcache\\local-packages\\python310\\site-packages (from onnx->onnx-simplifier) (4.3.0)\n",
      "Requirement already satisfied: numpy>=1.16.6 in c:\\users\\kiit\\appdata\\local\\packages\\pythonsoftwarefoundation.python.3.10_qbz5n2kfra8p0\\localcache\\local-packages\\python310\\site-packages (from onnx->onnx-simplifier) (1.23.0)\n",
      "Requirement already satisfied: markdown-it-py<3.0.0,>=2.2.0 in c:\\users\\kiit\\appdata\\local\\packages\\pythonsoftwarefoundation.python.3.10_qbz5n2kfra8p0\\localcache\\local-packages\\python310\\site-packages (from rich->onnx-simplifier) (2.2.0)\n",
      "Requirement already satisfied: pygments<3.0.0,>=2.13.0 in c:\\users\\kiit\\appdata\\local\\packages\\pythonsoftwarefoundation.python.3.10_qbz5n2kfra8p0\\localcache\\local-packages\\python310\\site-packages (from rich->onnx-simplifier) (2.14.0)\n",
      "Requirement already satisfied: mdurl~=0.1 in c:\\users\\kiit\\appdata\\local\\packages\\pythonsoftwarefoundation.python.3.10_qbz5n2kfra8p0\\localcache\\local-packages\\python310\\site-packages (from markdown-it-py<3.0.0,>=2.2.0->rich->onnx-simplifier) (0.1.2)\n"
     ]
    },
    {
     "name": "stderr",
     "output_type": "stream",
     "text": [
      "\n",
      "[notice] A new release of pip is available: 23.0 -> 23.1.2\n",
      "[notice] To update, run: C:\\Users\\KIIT\\AppData\\Local\\Microsoft\\WindowsApps\\PythonSoftwareFoundation.Python.3.10_qbz5n2kfra8p0\\python.exe -m pip install --upgrade pip\n",
      "ERROR: Could not find a version that satisfies the requirement infery (from versions: none)\n",
      "ERROR: No matching distribution found for infery\n",
      "\n",
      "[notice] A new release of pip is available: 23.0 -> 23.1.2\n",
      "[notice] To update, run: C:\\Users\\KIIT\\AppData\\Local\\Microsoft\\WindowsApps\\PythonSoftwareFoundation.Python.3.10_qbz5n2kfra8p0\\python.exe -m pip install --upgrade pip\n"
     ]
    }
   ],
   "source": [
    "!pip install super-gradients==3.1\n",
    "!pip install prettyformatter \n",
    "!pip install onnx-simplifier \n",
    "!pip install infery gwpy "
   ]
  },
  {
   "cell_type": "code",
   "execution_count": 2,
   "metadata": {},
   "outputs": [
    {
     "data": {
      "text/plain": [
       "['Images/Vehicle972_jpg.rf.18568c262b3e5c817b201085ddebbd0d.jpg',\n",
       " 'Images/Vehicle976_jpg.rf.ae3f6d1b2bb4d50bb806963b437a0fce.jpg',\n",
       " 'Images/Vehicle976_jpg.rf.cd7521c4bf5ff467d9cb8a8f3c5fb614.jpg',\n",
       " 'Images/Vehicle978_jpg.rf.09d66de096677e7883cf7e51319f3af8.jpg',\n",
       " 'Images/Vehicle97_jpg.rf.f90f80278a7d051770cba6df82aa1ca4.jpg',\n",
       " 'Images/Vehicle981_jpg.rf.954fab10a0e8f497d321582c9da2a9d3.jpg',\n",
       " 'Images/Vehicle982_jpg.rf.b977ea9ec920b4930a699da142ec7015.jpg',\n",
       " 'Images/Vehicle983_jpg.rf.158d4b78db80e2663b5db8d9937c890d.jpg',\n",
       " 'Images/Vehicle9_jpg.rf.07e5f5492b72101d235c774e79a4f4f3.jpg',\n",
       " 'Images/Vehicle9_jpg.rf.318302df6f20cde8ba9aefbd666c813e.jpg']"
      ]
     },
     "execution_count": 2,
     "metadata": {},
     "output_type": "execute_result"
    }
   ],
   "source": [
    "import os\n",
    "images = os.listdir('Images/')\n",
    "s=\"\"\n",
    "full_images_path=[]\n",
    "for m in images:\n",
    "    s=\"Images/\" + m\n",
    "    full_images_path.append(s)\n",
    "full_images_path\n"
   ]
  },
  {
   "cell_type": "code",
   "execution_count": 3,
   "metadata": {},
   "outputs": [
    {
     "data": {
      "text/plain": [
       "['binary_masks/00000.png',\n",
       " 'binary_masks/00001.png',\n",
       " 'binary_masks/00002.png',\n",
       " 'binary_masks/00003.png',\n",
       " 'binary_masks/00004.png',\n",
       " 'binary_masks/00005.png',\n",
       " 'binary_masks/00006.png',\n",
       " 'binary_masks/00007.png',\n",
       " 'binary_masks/00008.png',\n",
       " 'binary_masks/00009.png']"
      ]
     },
     "execution_count": 3,
     "metadata": {},
     "output_type": "execute_result"
    }
   ],
   "source": [
    "masks=os.listdir('binary_masks/')\n",
    "s=\"\"\n",
    "full_mask_path=[]\n",
    "for m in masks:\n",
    "    s=\"binary_masks/\" + m\n",
    "    full_mask_path.append(s)\n",
    "full_mask_path"
   ]
  },
  {
   "cell_type": "code",
   "execution_count": 4,
   "metadata": {},
   "outputs": [
    {
     "data": {
      "text/html": [
       "<div>\n",
       "<style scoped>\n",
       "    .dataframe tbody tr th:only-of-type {\n",
       "        vertical-align: middle;\n",
       "    }\n",
       "\n",
       "    .dataframe tbody tr th {\n",
       "        vertical-align: top;\n",
       "    }\n",
       "\n",
       "    .dataframe thead th {\n",
       "        text-align: right;\n",
       "    }\n",
       "</style>\n",
       "<table border=\"1\" class=\"dataframe\">\n",
       "  <thead>\n",
       "    <tr style=\"text-align: right;\">\n",
       "      <th></th>\n",
       "      <th>images</th>\n",
       "      <th>masks</th>\n",
       "    </tr>\n",
       "  </thead>\n",
       "  <tbody>\n",
       "    <tr>\n",
       "      <th>0</th>\n",
       "      <td>Images/Vehicle972_jpg.rf.18568c262b3e5c817b201...</td>\n",
       "      <td>binary_masks/00000.png</td>\n",
       "    </tr>\n",
       "    <tr>\n",
       "      <th>1</th>\n",
       "      <td>Images/Vehicle976_jpg.rf.ae3f6d1b2bb4d50bb8069...</td>\n",
       "      <td>binary_masks/00001.png</td>\n",
       "    </tr>\n",
       "    <tr>\n",
       "      <th>2</th>\n",
       "      <td>Images/Vehicle976_jpg.rf.cd7521c4bf5ff467d9cb8...</td>\n",
       "      <td>binary_masks/00002.png</td>\n",
       "    </tr>\n",
       "    <tr>\n",
       "      <th>3</th>\n",
       "      <td>Images/Vehicle978_jpg.rf.09d66de096677e7883cf7...</td>\n",
       "      <td>binary_masks/00003.png</td>\n",
       "    </tr>\n",
       "    <tr>\n",
       "      <th>4</th>\n",
       "      <td>Images/Vehicle97_jpg.rf.f90f80278a7d051770cba6...</td>\n",
       "      <td>binary_masks/00004.png</td>\n",
       "    </tr>\n",
       "    <tr>\n",
       "      <th>5</th>\n",
       "      <td>Images/Vehicle981_jpg.rf.954fab10a0e8f497d3215...</td>\n",
       "      <td>binary_masks/00005.png</td>\n",
       "    </tr>\n",
       "    <tr>\n",
       "      <th>6</th>\n",
       "      <td>Images/Vehicle982_jpg.rf.b977ea9ec920b4930a699...</td>\n",
       "      <td>binary_masks/00006.png</td>\n",
       "    </tr>\n",
       "    <tr>\n",
       "      <th>7</th>\n",
       "      <td>Images/Vehicle983_jpg.rf.158d4b78db80e2663b5db...</td>\n",
       "      <td>binary_masks/00007.png</td>\n",
       "    </tr>\n",
       "    <tr>\n",
       "      <th>8</th>\n",
       "      <td>Images/Vehicle9_jpg.rf.07e5f5492b72101d235c774...</td>\n",
       "      <td>binary_masks/00008.png</td>\n",
       "    </tr>\n",
       "    <tr>\n",
       "      <th>9</th>\n",
       "      <td>Images/Vehicle9_jpg.rf.318302df6f20cde8ba9aefb...</td>\n",
       "      <td>binary_masks/00009.png</td>\n",
       "    </tr>\n",
       "  </tbody>\n",
       "</table>\n",
       "</div>"
      ],
      "text/plain": [
       "                                              images                   masks\n",
       "0  Images/Vehicle972_jpg.rf.18568c262b3e5c817b201...  binary_masks/00000.png\n",
       "1  Images/Vehicle976_jpg.rf.ae3f6d1b2bb4d50bb8069...  binary_masks/00001.png\n",
       "2  Images/Vehicle976_jpg.rf.cd7521c4bf5ff467d9cb8...  binary_masks/00002.png\n",
       "3  Images/Vehicle978_jpg.rf.09d66de096677e7883cf7...  binary_masks/00003.png\n",
       "4  Images/Vehicle97_jpg.rf.f90f80278a7d051770cba6...  binary_masks/00004.png\n",
       "5  Images/Vehicle981_jpg.rf.954fab10a0e8f497d3215...  binary_masks/00005.png\n",
       "6  Images/Vehicle982_jpg.rf.b977ea9ec920b4930a699...  binary_masks/00006.png\n",
       "7  Images/Vehicle983_jpg.rf.158d4b78db80e2663b5db...  binary_masks/00007.png\n",
       "8  Images/Vehicle9_jpg.rf.07e5f5492b72101d235c774...  binary_masks/00008.png\n",
       "9  Images/Vehicle9_jpg.rf.318302df6f20cde8ba9aefb...  binary_masks/00009.png"
      ]
     },
     "execution_count": 4,
     "metadata": {},
     "output_type": "execute_result"
    }
   ],
   "source": [
    "import pandas as pd\n",
    "df=pd.DataFrame.from_dict({\"images\":full_images_path,\"masks\":full_mask_path})\n",
    "df"
   ]
  },
  {
   "cell_type": "code",
   "execution_count": 13,
   "metadata": {},
   "outputs": [],
   "source": [
    "df.to_csv('train.csv')"
   ]
  },
  {
   "cell_type": "code",
   "execution_count": 2,
   "metadata": {},
   "outputs": [],
   "source": [
    "from super_gradients.training import Trainer, MultiGPUMode\n",
    "\n",
    "CHECKPOINT_DIR = '/notebook_ckpts/'\n",
    "trainer = Trainer(experiment_name=\"segmentation_quick_start\", ckpt_root_dir=CHECKPOINT_DIR)# multi_gpu=MultiGPUMode.OFF)"
   ]
  },
  {
   "cell_type": "code",
   "execution_count": 6,
   "metadata": {},
   "outputs": [],
   "source": [
    "from super_gradients.training import models\n",
    "import os"
   ]
  },
  {
   "cell_type": "code",
   "execution_count": 127,
   "metadata": {},
   "outputs": [],
   "source": [
    "import torch\n",
    "from torch.utils.data import Dataset\n",
    "from torchvision import transforms, utils\n",
    "import numpy as np\n",
    "from PIL import Image\n",
    "\n",
    "class CustomDataset(Dataset):\n",
    "    \"\"\"\n",
    "    A PyTorch Dataset class to be used in a PyTorch DataLoader to create batches.\n",
    "    \"\"\"\n",
    "\n",
    "    def __init__(self, data_folder, split):\n",
    "        \"\"\"\n",
    "        :param data_folder: folder where data files are stored\n",
    "        :param split: split, one of 'TRAIN' or 'TEST'\n",
    "        \"\"\"\n",
    "        self.data_folder = data_folder\n",
    "        self.split = split.lower()\n",
    "        assert self.split in {'train', 'val'}\n",
    "\n",
    "        # Read data files\n",
    "        with open(os.path.join(data_folder, self.split + '.csv'), 'r') as f:\n",
    "            data_lines = f.readlines()\n",
    "        self.samples_fn = [line.strip().split(\",\") for line in data_lines]\n",
    "        \n",
    "        self.transforms = transforms.Compose([transforms.ToTensor(),transforms.Resize((256,256))])\n",
    "\n",
    "    def __getitem__(self, i):\n",
    "        # Read image and label\n",
    "        image = Image.open(self.samples_fn[i][0]).convert('RGB')\n",
    "        label = Image.open(self.samples_fn[i][1])\n",
    "        label=self.transforms(label)\n",
    "        label=torch.squeeze(label)\n",
    "        \n",
    "        image_tensor = self.transforms(image)\n",
    "        label_tensor = torch.from_numpy(np.array(label))#.long()\n",
    "    \n",
    "        return image_tensor, label_tensor\n",
    "        \n",
    "\n",
    "    def __len__(self):\n",
    "        return len(self.samples_fn)\n"
   ]
  },
  {
   "cell_type": "code",
   "execution_count": 128,
   "metadata": {},
   "outputs": [],
   "source": [
    "train_dataset = CustomDataset(\"Data\", split=\"train\")\n",
    "val_dataset = CustomDataset(\"Data\", split=\"train\")"
   ]
  },
  {
   "cell_type": "code",
   "execution_count": 129,
   "metadata": {},
   "outputs": [
    {
     "name": "stdout",
     "output_type": "stream",
     "text": [
      "torch.Size([3, 256, 256]) torch.Size([256, 256])\n",
      "tensor([0.0000, 0.2500, 0.4375, 0.7500, 0.8125, 0.9375, 1.0000])\n",
      "Val\n",
      "torch.Size([3, 256, 256]) torch.Size([256, 256])\n",
      "tensor([0.0000, 0.2500, 0.4375, 0.7500, 0.8125, 0.9375, 1.0000])\n"
     ]
    }
   ],
   "source": [
    "img, lbl = train_dataset[0]\n",
    "print(img.shape, lbl.shape)\n",
    "print(torch.unique(lbl))\n",
    "print(\"Val\")\n",
    "img, lbl = val_dataset[0]\n",
    "print(img.shape, lbl.shape)\n",
    "print(torch.unique(lbl))"
   ]
  },
  {
   "cell_type": "code",
   "execution_count": 130,
   "metadata": {},
   "outputs": [],
   "source": [
    "from torch.utils.data import Dataset, DataLoader\n",
    "\n",
    "train_dataloader = DataLoader(train_dataset, batch_size=4, shuffle=True)\n",
    "val_dataloader = DataLoader(val_dataset, batch_size=4, shuffle=False)"
   ]
  },
  {
   "cell_type": "code",
   "execution_count": 131,
   "metadata": {},
   "outputs": [
    {
     "data": {
      "text/plain": [
       "torch.Size([4, 3, 256, 256])"
      ]
     },
     "execution_count": 131,
     "metadata": {},
     "output_type": "execute_result"
    }
   ],
   "source": [
    "next(iter(train_dataloader))[0].shape"
   ]
  },
  {
   "cell_type": "code",
   "execution_count": 132,
   "metadata": {},
   "outputs": [
    {
     "data": {
      "text/plain": [
       "torch.Size([4, 3, 256, 256])"
      ]
     },
     "execution_count": 132,
     "metadata": {},
     "output_type": "execute_result"
    }
   ],
   "source": [
    "next(iter(val_dataloader))[0].shape"
   ]
  },
  {
   "cell_type": "code",
   "execution_count": 133,
   "metadata": {},
   "outputs": [],
   "source": [
    "from super_gradients.training import models\n",
    "from super_gradients.common.object_names import Models\n",
    "\n",
    "model = models.get(model_name=Models.PP_LITE_T_SEG75,\n",
    "                   arch_params={\"use_aux_heads\": False},\n",
    "                   num_classes=1,\n",
    "                   pretrained_weights=\"cityscapes\")"
   ]
  },
  {
   "cell_type": "code",
   "execution_count": 134,
   "metadata": {},
   "outputs": [],
   "source": [
    "from super_gradients.training.metrics.segmentation_metrics import IoU\n",
    "from super_gradients.training.utils.callbacks import BinarySegmentationVisualizationCallback, Phase\n",
    "\n",
    "\n",
    "train_params = {\"max_epochs\": 25,\n",
    "                \"lr_mode\": \"cosine\",\n",
    "                \"initial_lr\": 0.005,\n",
    "                \"optimizer\": \"SGD\",\n",
    "                \"loss\": \"cross_entropy\",\n",
    "                \"average_best_models\": False,\n",
    "                \"metric_to_watch\": \"IoU\",\n",
    "                \"greater_metric_to_watch_is_better\": True,\n",
    "                \"train_metrics_list\": [IoU(num_classes=2)],\n",
    "                \"valid_metrics_list\": [IoU(num_classes=2)],\n",
    "                \"loss_logging_items_names\": [\"loss\"],\n",
    "                \"phase_callbacks\": [BinarySegmentationVisualizationCallback(phase=Phase.VALIDATION_BATCH_END,\n",
    "                                                                            freq=1,\n",
    "                                                                            last_img_idx_in_batch=4)],\n",
    "\n",
    "                }"
   ]
  },
  {
   "cell_type": "code",
   "execution_count": 135,
   "metadata": {},
   "outputs": [
    {
     "data": {
      "text/html": [
       "\n",
       "      <iframe id=\"tensorboard-frame-1c80317fa3b1799d\" width=\"100%\" height=\"800\" frameborder=\"0\">\n",
       "      </iframe>\n",
       "      <script>\n",
       "        (function() {\n",
       "          const frame = document.getElementById(\"tensorboard-frame-1c80317fa3b1799d\");\n",
       "          const url = new URL(\"http://localhost\");\n",
       "          const port = 6006;\n",
       "          if (port) {\n",
       "            url.port = port;\n",
       "          }\n",
       "          frame.src = url;\n",
       "        })();\n",
       "      </script>\n",
       "    "
      ],
      "text/plain": [
       "<IPython.core.display.HTML object>"
      ]
     },
     "metadata": {},
     "output_type": "display_data"
    },
    {
     "name": "stdout",
     "output_type": "stream",
     "text": [
      "The tensorboard extension is already loaded. To reload it, use:\n",
      "  %reload_ext tensorboard\n"
     ]
    }
   ],
   "source": [
    "%load_ext tensorboard\n",
    "%tensorboard --logdir $CHECKPOINT_DIR --bind_all"
   ]
  },
  {
   "cell_type": "code",
   "execution_count": 136,
   "metadata": {},
   "outputs": [
    {
     "name": "stderr",
     "output_type": "stream",
     "text": [
      "[2023-05-29 11:34:59] WARNING - sg_trainer.py - Train dataset size % batch_size != 0 and drop_last=False, this might result in smaller last batch.\n",
      "[2023-05-29 11:34:59] WARNING - callbacks.py - Parameter linear_step has been made deprecated and will be removed in the next SG release. Please use `linear_epoch_step` instead.\n"
     ]
    },
    {
     "name": "stdout",
     "output_type": "stream",
     "text": [
      "The console stream is now moved to /notebook_ckpts/segmentation_quick_start/console_May29_11_34_59.txt\n"
     ]
    },
    {
     "name": "stderr",
     "output_type": "stream",
     "text": [
      "[2023-05-29 11:35:00] INFO - sg_trainer_utils.py - TRAINING PARAMETERS:\n",
      "    - Mode:                         Single GPU\n",
      "    - Number of GPUs:               0          (0 available on the machine)\n",
      "    - Dataset size:                 10         (len(train_set))\n",
      "    - Batch size per GPU:           4          (batch_size)\n",
      "    - Batch Accumulate:             1          (batch_accumulate)\n",
      "    - Total batch size:             4          (num_gpus * batch_size)\n",
      "    - Effective Batch size:         4          (num_gpus * batch_size * batch_accumulate)\n",
      "    - Iterations per epoch:         3          (len(train_loader))\n",
      "    - Gradient updates per epoch:   3          (len(train_loader) / batch_accumulate)\n",
      "\n",
      "[2023-05-29 11:35:00] INFO - sg_trainer.py - Started training for 25 epochs (0/24)\n",
      "\n",
      "Train epoch 0: 100%|██████████| 3/3 [00:01<00:00,  2.02it/s, IoU=0.493, LabelSmoothingCrossEntropyLoss=21.6, gpu_mem=0]\n",
      "Validation epoch 0: 100%|██████████| 3/3 [00:00<00:00,  3.68it/s]\n"
     ]
    },
    {
     "name": "stdout",
     "output_type": "stream",
     "text": [
      "===========================================================\n",
      "SUMMARY OF EPOCH 0\n",
      "├── Training\n",
      "│   ├── Iou = 0.4929\n",
      "│   └── Labelsmoothingcrossentropyloss = 21.5552\n",
      "└── Validation\n",
      "    ├── Iou = 0.4929\n",
      "    └── Labelsmoothingcrossentropyloss = 22.5973\n",
      "\n",
      "===========================================================\n"
     ]
    },
    {
     "name": "stderr",
     "output_type": "stream",
     "text": [
      "[2023-05-29 11:35:03] INFO - base_sg_logger.py - Checkpoint saved in /notebook_ckpts/segmentation_quick_start\\ckpt_best.pth\n",
      "[2023-05-29 11:35:03] INFO - sg_trainer.py - Best checkpoint overriden: validation IoU: 0.4929054379463196\n",
      "Train epoch 1: 100%|██████████| 3/3 [00:01<00:00,  2.18it/s, IoU=0.493, LabelSmoothingCrossEntropyLoss=23.9, gpu_mem=0]\n",
      "Validation epoch 1: 100%|██████████| 3/3 [00:00<00:00,  4.32it/s]\n",
      "Train epoch 2:   0%|          | 0/3 [00:00<?, ?it/s]"
     ]
    },
    {
     "name": "stdout",
     "output_type": "stream",
     "text": [
      "===========================================================\n",
      "SUMMARY OF EPOCH 1\n",
      "├── Training\n",
      "│   ├── Iou = 0.4929\n",
      "│   │   ├── Best until now = 0.4929 (\u001b[37m= 0.0\u001b[0m)\n",
      "│   │   └── Epoch N-1      = 0.4929 (\u001b[37m= 0.0\u001b[0m)\n",
      "│   └── Labelsmoothingcrossentropyloss = 23.9099\n",
      "│       ├── Best until now = 21.5552 (\u001b[31m↗ 2.3547\u001b[0m)\n",
      "│       └── Epoch N-1      = 21.5552 (\u001b[31m↗ 2.3547\u001b[0m)\n",
      "└── Validation\n",
      "    ├── Iou = 0.4929\n",
      "    │   ├── Best until now = 0.4929 (\u001b[37m= 0.0\u001b[0m)\n",
      "    │   └── Epoch N-1      = 0.4929 (\u001b[37m= 0.0\u001b[0m)\n",
      "    └── Labelsmoothingcrossentropyloss = 51.2429\n",
      "        ├── Best until now = 22.5973 (\u001b[31m↗ 28.6456\u001b[0m)\n",
      "        └── Epoch N-1      = 22.5973 (\u001b[31m↗ 28.6456\u001b[0m)\n",
      "\n",
      "===========================================================\n"
     ]
    },
    {
     "name": "stderr",
     "output_type": "stream",
     "text": [
      "Train epoch 2: 100%|██████████| 3/3 [00:01<00:00,  2.51it/s, IoU=0.493, LabelSmoothingCrossEntropyLoss=27.9, gpu_mem=0]\n",
      "Validation epoch 2:  67%|██████▋   | 2/3 [00:00<00:00,  3.92it/s]"
     ]
    },
    {
     "name": "stdout",
     "output_type": "stream",
     "text": [
      "===========================================================\n",
      "SUMMARY OF EPOCH 2\n",
      "├── Training\n",
      "│   ├── Iou = 0.4929\n",
      "│   │   ├── Best until now = 0.4929 (\u001b[37m= 0.0\u001b[0m)\n",
      "│   │   └── Epoch N-1      = 0.4929 (\u001b[37m= 0.0\u001b[0m)\n",
      "│   └── Labelsmoothingcrossentropyloss = 27.8948\n",
      "│       ├── Best until now = 21.5552 (\u001b[31m↗ 6.3396\u001b[0m)\n",
      "│       └── Epoch N-1      = 23.9099 (\u001b[31m↗ 3.9849\u001b[0m)\n",
      "└── Validation\n",
      "    ├── Iou = 0.4929\n",
      "    │   ├── Best until now = 0.4929 (\u001b[37m= 0.0\u001b[0m)\n",
      "    │   └── Epoch N-1      = 0.4929 (\u001b[37m= 0.0\u001b[0m)\n",
      "    └── Labelsmoothingcrossentropyloss = 26.0125\n",
      "        ├── Best until now = 22.5973 (\u001b[31m↗ 3.4152\u001b[0m)\n",
      "        └── Epoch N-1      = 51.2429 (\u001b[32m↘ -25.2304\u001b[0m)\n",
      "\n",
      "===========================================================\n"
     ]
    },
    {
     "name": "stderr",
     "output_type": "stream",
     "text": [
      "Validation epoch 2: 100%|██████████| 3/3 [00:00<00:00,  4.81it/s]\n",
      "Train epoch 3: 100%|██████████| 3/3 [00:01<00:00,  2.75it/s, IoU=0.493, LabelSmoothingCrossEntropyLoss=23.5, gpu_mem=0]\n",
      "Validation epoch 3: 100%|██████████| 3/3 [00:00<00:00,  4.53it/s]\n",
      "Train epoch 4:   0%|          | 0/3 [00:00<?, ?it/s]"
     ]
    },
    {
     "name": "stdout",
     "output_type": "stream",
     "text": [
      "===========================================================\n",
      "SUMMARY OF EPOCH 3\n",
      "├── Training\n",
      "│   ├── Iou = 0.4929\n",
      "│   │   ├── Best until now = 0.4929 (\u001b[37m= 0.0\u001b[0m)\n",
      "│   │   └── Epoch N-1      = 0.4929 (\u001b[37m= 0.0\u001b[0m)\n",
      "│   └── Labelsmoothingcrossentropyloss = 23.4878\n",
      "│       ├── Best until now = 21.5552 (\u001b[31m↗ 1.9326\u001b[0m)\n",
      "│       └── Epoch N-1      = 27.8948 (\u001b[32m↘ -4.407\u001b[0m)\n",
      "└── Validation\n",
      "    ├── Iou = 0.4929\n",
      "    │   ├── Best until now = 0.4929 (\u001b[37m= 0.0\u001b[0m)\n",
      "    │   └── Epoch N-1      = 0.4929 (\u001b[37m= 0.0\u001b[0m)\n",
      "    └── Labelsmoothingcrossentropyloss = 256.0055\n",
      "        ├── Best until now = 22.5973 (\u001b[31m↗ 233.4082\u001b[0m)\n",
      "        └── Epoch N-1      = 26.0125 (\u001b[31m↗ 229.993\u001b[0m)\n",
      "\n",
      "===========================================================\n"
     ]
    },
    {
     "name": "stderr",
     "output_type": "stream",
     "text": [
      "Train epoch 4: 100%|██████████| 3/3 [00:01<00:00,  2.54it/s, IoU=0.493, LabelSmoothingCrossEntropyLoss=28.4, gpu_mem=0]\n",
      "Validation epoch 4: 100%|██████████| 3/3 [00:00<00:00,  4.54it/s]\n",
      "Train epoch 5:   0%|          | 0/3 [00:00<?, ?it/s]"
     ]
    },
    {
     "name": "stdout",
     "output_type": "stream",
     "text": [
      "===========================================================\n",
      "SUMMARY OF EPOCH 4\n",
      "├── Training\n",
      "│   ├── Iou = 0.4929\n",
      "│   │   ├── Best until now = 0.4929 (\u001b[37m= 0.0\u001b[0m)\n",
      "│   │   └── Epoch N-1      = 0.4929 (\u001b[37m= 0.0\u001b[0m)\n",
      "│   └── Labelsmoothingcrossentropyloss = 28.3957\n",
      "│       ├── Best until now = 21.5552 (\u001b[31m↗ 6.8404\u001b[0m)\n",
      "│       └── Epoch N-1      = 23.4878 (\u001b[31m↗ 4.9078\u001b[0m)\n",
      "└── Validation\n",
      "    ├── Iou = 0.4929\n",
      "    │   ├── Best until now = 0.4929 (\u001b[37m= 0.0\u001b[0m)\n",
      "    │   └── Epoch N-1      = 0.4929 (\u001b[37m= 0.0\u001b[0m)\n",
      "    └── Labelsmoothingcrossentropyloss = 448617.84\n",
      "        ├── Best until now = 22.5973 (\u001b[31m↗ 448595.25\u001b[0m)\n",
      "        └── Epoch N-1      = 256.0055 (\u001b[31m↗ 448361.84\u001b[0m)\n",
      "\n",
      "===========================================================\n"
     ]
    },
    {
     "name": "stderr",
     "output_type": "stream",
     "text": [
      "Train epoch 5: 100%|██████████| 3/3 [00:01<00:00,  2.69it/s, IoU=0.493, LabelSmoothingCrossEntropyLoss=20.1, gpu_mem=0]\n",
      "Validation epoch 5: 100%|██████████| 3/3 [00:00<00:00,  4.40it/s]\n",
      "Train epoch 6:   0%|          | 0/3 [00:00<?, ?it/s]"
     ]
    },
    {
     "name": "stdout",
     "output_type": "stream",
     "text": [
      "===========================================================\n",
      "SUMMARY OF EPOCH 5\n",
      "├── Training\n",
      "│   ├── Iou = 0.4929\n",
      "│   │   ├── Best until now = 0.4929 (\u001b[37m= 0.0\u001b[0m)\n",
      "│   │   └── Epoch N-1      = 0.4929 (\u001b[37m= 0.0\u001b[0m)\n",
      "│   └── Labelsmoothingcrossentropyloss = 20.1006\n",
      "│       ├── Best until now = 21.5552 (\u001b[32m↘ -1.4546\u001b[0m)\n",
      "│       └── Epoch N-1      = 28.3957 (\u001b[32m↘ -8.295\u001b[0m)\n",
      "└── Validation\n",
      "    ├── Iou = 0.4929\n",
      "    │   ├── Best until now = 0.4929 (\u001b[37m= 0.0\u001b[0m)\n",
      "    │   └── Epoch N-1      = 0.4929 (\u001b[37m= 0.0\u001b[0m)\n",
      "    └── Labelsmoothingcrossentropyloss = 622561.5\n",
      "        ├── Best until now = 22.5973 (\u001b[31m↗ 622538.9\u001b[0m)\n",
      "        └── Epoch N-1      = 448617.84 (\u001b[31m↗ 173943.66\u001b[0m)\n",
      "\n",
      "===========================================================\n"
     ]
    },
    {
     "name": "stderr",
     "output_type": "stream",
     "text": [
      "Train epoch 6: 100%|██████████| 3/3 [00:01<00:00,  2.60it/s, IoU=0.493, LabelSmoothingCrossEntropyLoss=21.5, gpu_mem=0]\n",
      "Validation epoch 6: 100%|██████████| 3/3 [00:00<00:00,  4.10it/s]\n",
      "Train epoch 7:   0%|          | 0/3 [00:00<?, ?it/s]"
     ]
    },
    {
     "name": "stdout",
     "output_type": "stream",
     "text": [
      "===========================================================\n",
      "SUMMARY OF EPOCH 6\n",
      "├── Training\n",
      "│   ├── Iou = 0.4929\n",
      "│   │   ├── Best until now = 0.4929 (\u001b[37m= 0.0\u001b[0m)\n",
      "│   │   └── Epoch N-1      = 0.4929 (\u001b[37m= 0.0\u001b[0m)\n",
      "│   └── Labelsmoothingcrossentropyloss = 21.5471\n",
      "│       ├── Best until now = 20.1006 (\u001b[31m↗ 1.4465\u001b[0m)\n",
      "│       └── Epoch N-1      = 20.1006 (\u001b[31m↗ 1.4465\u001b[0m)\n",
      "└── Validation\n",
      "    ├── Iou = 0.4929\n",
      "    │   ├── Best until now = 0.4929 (\u001b[37m= 0.0\u001b[0m)\n",
      "    │   └── Epoch N-1      = 0.4929 (\u001b[37m= 0.0\u001b[0m)\n",
      "    └── Labelsmoothingcrossentropyloss = 378741.9\n",
      "        ├── Best until now = 22.5973 (\u001b[31m↗ 378719.3\u001b[0m)\n",
      "        └── Epoch N-1      = 622561.5 (\u001b[32m↘ -243819.6\u001b[0m)\n",
      "\n",
      "===========================================================\n"
     ]
    },
    {
     "name": "stderr",
     "output_type": "stream",
     "text": [
      "Train epoch 7: 100%|██████████| 3/3 [00:01<00:00,  2.67it/s, IoU=0.493, LabelSmoothingCrossEntropyLoss=21.3, gpu_mem=0]\n",
      "Validation epoch 7: 100%|██████████| 3/3 [00:00<00:00,  4.40it/s]\n",
      "Train epoch 8:   0%|          | 0/3 [00:00<?, ?it/s]"
     ]
    },
    {
     "name": "stdout",
     "output_type": "stream",
     "text": [
      "===========================================================\n",
      "SUMMARY OF EPOCH 7\n",
      "├── Training\n",
      "│   ├── Iou = 0.4929\n",
      "│   │   ├── Best until now = 0.4929 (\u001b[37m= 0.0\u001b[0m)\n",
      "│   │   └── Epoch N-1      = 0.4929 (\u001b[37m= 0.0\u001b[0m)\n",
      "│   └── Labelsmoothingcrossentropyloss = 21.2807\n",
      "│       ├── Best until now = 20.1006 (\u001b[31m↗ 1.1801\u001b[0m)\n",
      "│       └── Epoch N-1      = 21.5471 (\u001b[32m↘ -0.2664\u001b[0m)\n",
      "└── Validation\n",
      "    ├── Iou = 0.4929\n",
      "    │   ├── Best until now = 0.4929 (\u001b[37m= 0.0\u001b[0m)\n",
      "    │   └── Epoch N-1      = 0.4929 (\u001b[37m= 0.0\u001b[0m)\n",
      "    └── Labelsmoothingcrossentropyloss = 121259.914\n",
      "        ├── Best until now = 22.5973 (\u001b[31m↗ 121237.33\u001b[0m)\n",
      "        └── Epoch N-1      = 378741.9 (\u001b[32m↘ -257482.02\u001b[0m)\n",
      "\n",
      "===========================================================\n"
     ]
    },
    {
     "name": "stderr",
     "output_type": "stream",
     "text": [
      "Train epoch 8: 100%|██████████| 3/3 [00:01<00:00,  2.76it/s, IoU=0.493, LabelSmoothingCrossEntropyLoss=19.1, gpu_mem=0]\n",
      "Validation epoch 8: 100%|██████████| 3/3 [00:00<00:00,  4.76it/s]\n",
      "Train epoch 9:   0%|          | 0/3 [00:00<?, ?it/s]"
     ]
    },
    {
     "name": "stdout",
     "output_type": "stream",
     "text": [
      "===========================================================\n",
      "SUMMARY OF EPOCH 8\n",
      "├── Training\n",
      "│   ├── Iou = 0.4929\n",
      "│   │   ├── Best until now = 0.4929 (\u001b[37m= 0.0\u001b[0m)\n",
      "│   │   └── Epoch N-1      = 0.4929 (\u001b[37m= 0.0\u001b[0m)\n",
      "│   └── Labelsmoothingcrossentropyloss = 19.1449\n",
      "│       ├── Best until now = 20.1006 (\u001b[32m↘ -0.9557\u001b[0m)\n",
      "│       └── Epoch N-1      = 21.2807 (\u001b[32m↘ -2.1358\u001b[0m)\n",
      "└── Validation\n",
      "    ├── Iou = 0.4929\n",
      "    │   ├── Best until now = 0.4929 (\u001b[37m= 0.0\u001b[0m)\n",
      "    │   └── Epoch N-1      = 0.4929 (\u001b[37m= 0.0\u001b[0m)\n",
      "    └── Labelsmoothingcrossentropyloss = 105573.02\n",
      "        ├── Best until now = 22.5973 (\u001b[31m↗ 105550.43\u001b[0m)\n",
      "        └── Epoch N-1      = 121259.914 (\u001b[32m↘ -15686.892\u001b[0m)\n",
      "\n",
      "===========================================================\n"
     ]
    },
    {
     "name": "stderr",
     "output_type": "stream",
     "text": [
      "Train epoch 9: 100%|██████████| 3/3 [00:01<00:00,  2.71it/s, IoU=0.493, LabelSmoothingCrossEntropyLoss=20.5, gpu_mem=0]\n",
      "Validation epoch 9: 100%|██████████| 3/3 [00:00<00:00,  4.60it/s]\n",
      "Train epoch 10:   0%|          | 0/3 [00:00<?, ?it/s]"
     ]
    },
    {
     "name": "stdout",
     "output_type": "stream",
     "text": [
      "===========================================================\n",
      "SUMMARY OF EPOCH 9\n",
      "├── Training\n",
      "│   ├── Iou = 0.4929\n",
      "│   │   ├── Best until now = 0.4929 (\u001b[37m= 0.0\u001b[0m)\n",
      "│   │   └── Epoch N-1      = 0.4929 (\u001b[37m= 0.0\u001b[0m)\n",
      "│   └── Labelsmoothingcrossentropyloss = 20.5101\n",
      "│       ├── Best until now = 19.1449 (\u001b[31m↗ 1.3652\u001b[0m)\n",
      "│       └── Epoch N-1      = 19.1449 (\u001b[31m↗ 1.3652\u001b[0m)\n",
      "└── Validation\n",
      "    ├── Iou = 0.4929\n",
      "    │   ├── Best until now = 0.4929 (\u001b[37m= 0.0\u001b[0m)\n",
      "    │   └── Epoch N-1      = 0.4929 (\u001b[37m= 0.0\u001b[0m)\n",
      "    └── Labelsmoothingcrossentropyloss = 8733.893\n",
      "        ├── Best until now = 22.5973 (\u001b[31m↗ 8711.295\u001b[0m)\n",
      "        └── Epoch N-1      = 105573.02 (\u001b[32m↘ -96839.13\u001b[0m)\n",
      "\n",
      "===========================================================\n"
     ]
    },
    {
     "name": "stderr",
     "output_type": "stream",
     "text": [
      "Train epoch 10: 100%|██████████| 3/3 [00:01<00:00,  2.52it/s, IoU=0.493, LabelSmoothingCrossEntropyLoss=19.5, gpu_mem=0]\n",
      "Validation epoch 10: 100%|██████████| 3/3 [00:00<00:00,  4.60it/s]\n",
      "Train epoch 11:   0%|          | 0/3 [00:00<?, ?it/s]"
     ]
    },
    {
     "name": "stdout",
     "output_type": "stream",
     "text": [
      "===========================================================\n",
      "SUMMARY OF EPOCH 10\n",
      "├── Training\n",
      "│   ├── Iou = 0.4929\n",
      "│   │   ├── Best until now = 0.4929 (\u001b[37m= 0.0\u001b[0m)\n",
      "│   │   └── Epoch N-1      = 0.4929 (\u001b[37m= 0.0\u001b[0m)\n",
      "│   └── Labelsmoothingcrossentropyloss = 19.4563\n",
      "│       ├── Best until now = 19.1449 (\u001b[31m↗ 0.3114\u001b[0m)\n",
      "│       └── Epoch N-1      = 20.5101 (\u001b[32m↘ -1.0538\u001b[0m)\n",
      "└── Validation\n",
      "    ├── Iou = 0.4929\n",
      "    │   ├── Best until now = 0.4929 (\u001b[37m= 0.0\u001b[0m)\n",
      "    │   └── Epoch N-1      = 0.4929 (\u001b[37m= 0.0\u001b[0m)\n",
      "    └── Labelsmoothingcrossentropyloss = 870.7609\n",
      "        ├── Best until now = 22.5973 (\u001b[31m↗ 848.1636\u001b[0m)\n",
      "        └── Epoch N-1      = 8733.893 (\u001b[32m↘ -7863.132\u001b[0m)\n",
      "\n",
      "===========================================================\n"
     ]
    },
    {
     "name": "stderr",
     "output_type": "stream",
     "text": [
      "Train epoch 11: 100%|██████████| 3/3 [00:01<00:00,  2.72it/s, IoU=0.493, LabelSmoothingCrossEntropyLoss=19.9, gpu_mem=0]\n",
      "Validation epoch 11: 100%|██████████| 3/3 [00:00<00:00,  4.60it/s]\n",
      "Train epoch 12:   0%|          | 0/3 [00:00<?, ?it/s]"
     ]
    },
    {
     "name": "stdout",
     "output_type": "stream",
     "text": [
      "===========================================================\n",
      "SUMMARY OF EPOCH 11\n",
      "├── Training\n",
      "│   ├── Iou = 0.4929\n",
      "│   │   ├── Best until now = 0.4929 (\u001b[37m= 0.0\u001b[0m)\n",
      "│   │   └── Epoch N-1      = 0.4929 (\u001b[37m= 0.0\u001b[0m)\n",
      "│   └── Labelsmoothingcrossentropyloss = 19.9485\n",
      "│       ├── Best until now = 19.1449 (\u001b[31m↗ 0.8036\u001b[0m)\n",
      "│       └── Epoch N-1      = 19.4563 (\u001b[31m↗ 0.4922\u001b[0m)\n",
      "└── Validation\n",
      "    ├── Iou = 0.4929\n",
      "    │   ├── Best until now = 0.4929 (\u001b[37m= 0.0\u001b[0m)\n",
      "    │   └── Epoch N-1      = 0.4929 (\u001b[37m= 0.0\u001b[0m)\n",
      "    └── Labelsmoothingcrossentropyloss = 230.7944\n",
      "        ├── Best until now = 22.5973 (\u001b[31m↗ 208.1971\u001b[0m)\n",
      "        └── Epoch N-1      = 870.7609 (\u001b[32m↘ -639.9665\u001b[0m)\n",
      "\n",
      "===========================================================\n"
     ]
    },
    {
     "name": "stderr",
     "output_type": "stream",
     "text": [
      "Train epoch 12: 100%|██████████| 3/3 [00:01<00:00,  2.86it/s, IoU=0.493, LabelSmoothingCrossEntropyLoss=19.6, gpu_mem=0]\n",
      "Validation epoch 12: 100%|██████████| 3/3 [00:00<00:00,  4.18it/s]\n",
      "Train epoch 13:   0%|          | 0/3 [00:00<?, ?it/s]"
     ]
    },
    {
     "name": "stdout",
     "output_type": "stream",
     "text": [
      "===========================================================\n",
      "SUMMARY OF EPOCH 12\n",
      "├── Training\n",
      "│   ├── Iou = 0.4929\n",
      "│   │   ├── Best until now = 0.4929 (\u001b[37m= 0.0\u001b[0m)\n",
      "│   │   └── Epoch N-1      = 0.4929 (\u001b[37m= 0.0\u001b[0m)\n",
      "│   └── Labelsmoothingcrossentropyloss = 19.6252\n",
      "│       ├── Best until now = 19.1449 (\u001b[31m↗ 0.4803\u001b[0m)\n",
      "│       └── Epoch N-1      = 19.9485 (\u001b[32m↘ -0.3233\u001b[0m)\n",
      "└── Validation\n",
      "    ├── Iou = 0.4929\n",
      "    │   ├── Best until now = 0.4929 (\u001b[37m= 0.0\u001b[0m)\n",
      "    │   └── Epoch N-1      = 0.4929 (\u001b[37m= 0.0\u001b[0m)\n",
      "    └── Labelsmoothingcrossentropyloss = 124.4293\n",
      "        ├── Best until now = 22.5973 (\u001b[31m↗ 101.832\u001b[0m)\n",
      "        └── Epoch N-1      = 230.7944 (\u001b[32m↘ -106.3652\u001b[0m)\n",
      "\n",
      "===========================================================\n"
     ]
    },
    {
     "name": "stderr",
     "output_type": "stream",
     "text": [
      "Train epoch 13: 100%|██████████| 3/3 [00:01<00:00,  2.79it/s, IoU=0.493, LabelSmoothingCrossEntropyLoss=19.2, gpu_mem=0]\n",
      "Validation epoch 13: 100%|██████████| 3/3 [00:00<00:00,  4.74it/s]\n",
      "Train epoch 14:   0%|          | 0/3 [00:00<?, ?it/s]"
     ]
    },
    {
     "name": "stdout",
     "output_type": "stream",
     "text": [
      "===========================================================\n",
      "SUMMARY OF EPOCH 13\n",
      "├── Training\n",
      "│   ├── Iou = 0.4929\n",
      "│   │   ├── Best until now = 0.4929 (\u001b[37m= 0.0\u001b[0m)\n",
      "│   │   └── Epoch N-1      = 0.4929 (\u001b[37m= 0.0\u001b[0m)\n",
      "│   └── Labelsmoothingcrossentropyloss = 19.2237\n",
      "│       ├── Best until now = 19.1449 (\u001b[31m↗ 0.0788\u001b[0m)\n",
      "│       └── Epoch N-1      = 19.6252 (\u001b[32m↘ -0.4014\u001b[0m)\n",
      "└── Validation\n",
      "    ├── Iou = 0.4929\n",
      "    │   ├── Best until now = 0.4929 (\u001b[37m= 0.0\u001b[0m)\n",
      "    │   └── Epoch N-1      = 0.4929 (\u001b[37m= 0.0\u001b[0m)\n",
      "    └── Labelsmoothingcrossentropyloss = 88.1563\n",
      "        ├── Best until now = 22.5973 (\u001b[31m↗ 65.559\u001b[0m)\n",
      "        └── Epoch N-1      = 124.4293 (\u001b[32m↘ -36.2729\u001b[0m)\n",
      "\n",
      "===========================================================\n"
     ]
    },
    {
     "name": "stderr",
     "output_type": "stream",
     "text": [
      "Train epoch 14: 100%|██████████| 3/3 [00:01<00:00,  2.80it/s, IoU=0.493, LabelSmoothingCrossEntropyLoss=19.1, gpu_mem=0]\n",
      "Validation epoch 14: 100%|██████████| 3/3 [00:00<00:00,  4.55it/s]\n",
      "Train epoch 15:   0%|          | 0/3 [00:00<?, ?it/s]"
     ]
    },
    {
     "name": "stdout",
     "output_type": "stream",
     "text": [
      "===========================================================\n",
      "SUMMARY OF EPOCH 14\n",
      "├── Training\n",
      "│   ├── Iou = 0.4929\n",
      "│   │   ├── Best until now = 0.4929 (\u001b[37m= 0.0\u001b[0m)\n",
      "│   │   └── Epoch N-1      = 0.4929 (\u001b[37m= 0.0\u001b[0m)\n",
      "│   └── Labelsmoothingcrossentropyloss = 19.1347\n",
      "│       ├── Best until now = 19.1449 (\u001b[32m↘ -0.0102\u001b[0m)\n",
      "│       └── Epoch N-1      = 19.2237 (\u001b[32m↘ -0.0891\u001b[0m)\n",
      "└── Validation\n",
      "    ├── Iou = 0.4929\n",
      "    │   ├── Best until now = 0.4929 (\u001b[37m= 0.0\u001b[0m)\n",
      "    │   └── Epoch N-1      = 0.4929 (\u001b[37m= 0.0\u001b[0m)\n",
      "    └── Labelsmoothingcrossentropyloss = 55.4028\n",
      "        ├── Best until now = 22.5973 (\u001b[31m↗ 32.8055\u001b[0m)\n",
      "        └── Epoch N-1      = 88.1563 (\u001b[32m↘ -32.7535\u001b[0m)\n",
      "\n",
      "===========================================================\n"
     ]
    },
    {
     "name": "stderr",
     "output_type": "stream",
     "text": [
      "Train epoch 15: 100%|██████████| 3/3 [00:01<00:00,  2.69it/s, IoU=0.493, LabelSmoothingCrossEntropyLoss=19.9, gpu_mem=0]\n",
      "Validation epoch 15: 100%|██████████| 3/3 [00:00<00:00,  4.64it/s]\n",
      "Train epoch 16:   0%|          | 0/3 [00:00<?, ?it/s]"
     ]
    },
    {
     "name": "stdout",
     "output_type": "stream",
     "text": [
      "===========================================================\n",
      "SUMMARY OF EPOCH 15\n",
      "├── Training\n",
      "│   ├── Iou = 0.4929\n",
      "│   │   ├── Best until now = 0.4929 (\u001b[37m= 0.0\u001b[0m)\n",
      "│   │   └── Epoch N-1      = 0.4929 (\u001b[37m= 0.0\u001b[0m)\n",
      "│   └── Labelsmoothingcrossentropyloss = 19.9269\n",
      "│       ├── Best until now = 19.1347 (\u001b[31m↗ 0.7922\u001b[0m)\n",
      "│       └── Epoch N-1      = 19.1347 (\u001b[31m↗ 0.7922\u001b[0m)\n",
      "└── Validation\n",
      "    ├── Iou = 0.4929\n",
      "    │   ├── Best until now = 0.4929 (\u001b[37m= 0.0\u001b[0m)\n",
      "    │   └── Epoch N-1      = 0.4929 (\u001b[37m= 0.0\u001b[0m)\n",
      "    └── Labelsmoothingcrossentropyloss = 32.8515\n",
      "        ├── Best until now = 22.5973 (\u001b[31m↗ 10.2542\u001b[0m)\n",
      "        └── Epoch N-1      = 55.4028 (\u001b[32m↘ -22.5513\u001b[0m)\n",
      "\n",
      "===========================================================\n"
     ]
    },
    {
     "name": "stderr",
     "output_type": "stream",
     "text": [
      "Train epoch 16: 100%|██████████| 3/3 [00:01<00:00,  2.67it/s, IoU=0.493, LabelSmoothingCrossEntropyLoss=23, gpu_mem=0]  \n",
      "Validation epoch 16: 100%|██████████| 3/3 [00:00<00:00,  4.83it/s]\n",
      "Train epoch 17:   0%|          | 0/3 [00:00<?, ?it/s]"
     ]
    },
    {
     "name": "stdout",
     "output_type": "stream",
     "text": [
      "===========================================================\n",
      "SUMMARY OF EPOCH 16\n",
      "├── Training\n",
      "│   ├── Iou = 0.4929\n",
      "│   │   ├── Best until now = 0.4929 (\u001b[37m= 0.0\u001b[0m)\n",
      "│   │   └── Epoch N-1      = 0.4929 (\u001b[37m= 0.0\u001b[0m)\n",
      "│   └── Labelsmoothingcrossentropyloss = 22.986\n",
      "│       ├── Best until now = 19.1347 (\u001b[31m↗ 3.8513\u001b[0m)\n",
      "│       └── Epoch N-1      = 19.9269 (\u001b[31m↗ 3.0591\u001b[0m)\n",
      "└── Validation\n",
      "    ├── Iou = 0.4929\n",
      "    │   ├── Best until now = 0.4929 (\u001b[37m= 0.0\u001b[0m)\n",
      "    │   └── Epoch N-1      = 0.4929 (\u001b[37m= 0.0\u001b[0m)\n",
      "    └── Labelsmoothingcrossentropyloss = 47.0846\n",
      "        ├── Best until now = 22.5973 (\u001b[31m↗ 24.4873\u001b[0m)\n",
      "        └── Epoch N-1      = 32.8515 (\u001b[31m↗ 14.2331\u001b[0m)\n",
      "\n",
      "===========================================================\n"
     ]
    },
    {
     "name": "stderr",
     "output_type": "stream",
     "text": [
      "Train epoch 17: 100%|██████████| 3/3 [00:01<00:00,  2.81it/s, IoU=0.493, LabelSmoothingCrossEntropyLoss=19.6, gpu_mem=0]\n",
      "Validation epoch 17: 100%|██████████| 3/3 [00:00<00:00,  4.35it/s]\n",
      "Train epoch 18:   0%|          | 0/3 [00:00<?, ?it/s]"
     ]
    },
    {
     "name": "stdout",
     "output_type": "stream",
     "text": [
      "===========================================================\n",
      "SUMMARY OF EPOCH 17\n",
      "├── Training\n",
      "│   ├── Iou = 0.4929\n",
      "│   │   ├── Best until now = 0.4929 (\u001b[37m= 0.0\u001b[0m)\n",
      "│   │   └── Epoch N-1      = 0.4929 (\u001b[37m= 0.0\u001b[0m)\n",
      "│   └── Labelsmoothingcrossentropyloss = 19.6483\n",
      "│       ├── Best until now = 19.1347 (\u001b[31m↗ 0.5137\u001b[0m)\n",
      "│       └── Epoch N-1      = 22.986 (\u001b[32m↘ -3.3376\u001b[0m)\n",
      "└── Validation\n",
      "    ├── Iou = 0.4929\n",
      "    │   ├── Best until now = 0.4929 (\u001b[37m= 0.0\u001b[0m)\n",
      "    │   └── Epoch N-1      = 0.4929 (\u001b[37m= 0.0\u001b[0m)\n",
      "    └── Labelsmoothingcrossentropyloss = 38.4423\n",
      "        ├── Best until now = 22.5973 (\u001b[31m↗ 15.845\u001b[0m)\n",
      "        └── Epoch N-1      = 47.0846 (\u001b[32m↘ -8.6423\u001b[0m)\n",
      "\n",
      "===========================================================\n"
     ]
    },
    {
     "name": "stderr",
     "output_type": "stream",
     "text": [
      "Train epoch 18: 100%|██████████| 3/3 [00:01<00:00,  2.81it/s, IoU=0.493, LabelSmoothingCrossEntropyLoss=19.2, gpu_mem=0]\n",
      "Validation epoch 18: 100%|██████████| 3/3 [00:00<00:00,  4.73it/s]\n",
      "Train epoch 19:   0%|          | 0/3 [00:00<?, ?it/s]"
     ]
    },
    {
     "name": "stdout",
     "output_type": "stream",
     "text": [
      "===========================================================\n",
      "SUMMARY OF EPOCH 18\n",
      "├── Training\n",
      "│   ├── Iou = 0.4929\n",
      "│   │   ├── Best until now = 0.4929 (\u001b[37m= 0.0\u001b[0m)\n",
      "│   │   └── Epoch N-1      = 0.4929 (\u001b[37m= 0.0\u001b[0m)\n",
      "│   └── Labelsmoothingcrossentropyloss = 19.1761\n",
      "│       ├── Best until now = 19.1347 (\u001b[31m↗ 0.0414\u001b[0m)\n",
      "│       └── Epoch N-1      = 19.6483 (\u001b[32m↘ -0.4722\u001b[0m)\n",
      "└── Validation\n",
      "    ├── Iou = 0.4929\n",
      "    │   ├── Best until now = 0.4929 (\u001b[37m= 0.0\u001b[0m)\n",
      "    │   └── Epoch N-1      = 0.4929 (\u001b[37m= 0.0\u001b[0m)\n",
      "    └── Labelsmoothingcrossentropyloss = 27.515\n",
      "        ├── Best until now = 22.5973 (\u001b[31m↗ 4.9177\u001b[0m)\n",
      "        └── Epoch N-1      = 38.4423 (\u001b[32m↘ -10.9273\u001b[0m)\n",
      "\n",
      "===========================================================\n"
     ]
    },
    {
     "name": "stderr",
     "output_type": "stream",
     "text": [
      "Train epoch 19: 100%|██████████| 3/3 [00:01<00:00,  2.67it/s, IoU=0.493, LabelSmoothingCrossEntropyLoss=18.7, gpu_mem=0]\n",
      "Validation epoch 19: 100%|██████████| 3/3 [00:00<00:00,  4.49it/s]\n",
      "Train epoch 20:   0%|          | 0/3 [00:00<?, ?it/s]"
     ]
    },
    {
     "name": "stdout",
     "output_type": "stream",
     "text": [
      "===========================================================\n",
      "SUMMARY OF EPOCH 19\n",
      "├── Training\n",
      "│   ├── Iou = 0.4929\n",
      "│   │   ├── Best until now = 0.4929 (\u001b[37m= 0.0\u001b[0m)\n",
      "│   │   └── Epoch N-1      = 0.4929 (\u001b[37m= 0.0\u001b[0m)\n",
      "│   └── Labelsmoothingcrossentropyloss = 18.6701\n",
      "│       ├── Best until now = 19.1347 (\u001b[32m↘ -0.4646\u001b[0m)\n",
      "│       └── Epoch N-1      = 19.1761 (\u001b[32m↘ -0.506\u001b[0m)\n",
      "└── Validation\n",
      "    ├── Iou = 0.4929\n",
      "    │   ├── Best until now = 0.4929 (\u001b[37m= 0.0\u001b[0m)\n",
      "    │   └── Epoch N-1      = 0.4929 (\u001b[37m= 0.0\u001b[0m)\n",
      "    └── Labelsmoothingcrossentropyloss = 20.4879\n",
      "        ├── Best until now = 22.5973 (\u001b[32m↘ -2.1094\u001b[0m)\n",
      "        └── Epoch N-1      = 27.515 (\u001b[32m↘ -7.027\u001b[0m)\n",
      "\n",
      "===========================================================\n"
     ]
    },
    {
     "name": "stderr",
     "output_type": "stream",
     "text": [
      "Train epoch 20: 100%|██████████| 3/3 [00:01<00:00,  2.66it/s, IoU=0.493, LabelSmoothingCrossEntropyLoss=20.6, gpu_mem=0]\n",
      "Validation epoch 20: 100%|██████████| 3/3 [00:00<00:00,  4.68it/s]\n",
      "Train epoch 21:   0%|          | 0/3 [00:00<?, ?it/s]"
     ]
    },
    {
     "name": "stdout",
     "output_type": "stream",
     "text": [
      "===========================================================\n",
      "SUMMARY OF EPOCH 20\n",
      "├── Training\n",
      "│   ├── Iou = 0.4929\n",
      "│   │   ├── Best until now = 0.4929 (\u001b[37m= 0.0\u001b[0m)\n",
      "│   │   └── Epoch N-1      = 0.4929 (\u001b[37m= 0.0\u001b[0m)\n",
      "│   └── Labelsmoothingcrossentropyloss = 20.57\n",
      "│       ├── Best until now = 18.6701 (\u001b[31m↗ 1.8999\u001b[0m)\n",
      "│       └── Epoch N-1      = 18.6701 (\u001b[31m↗ 1.8999\u001b[0m)\n",
      "└── Validation\n",
      "    ├── Iou = 0.4929\n",
      "    │   ├── Best until now = 0.4929 (\u001b[37m= 0.0\u001b[0m)\n",
      "    │   └── Epoch N-1      = 0.4929 (\u001b[37m= 0.0\u001b[0m)\n",
      "    └── Labelsmoothingcrossentropyloss = 19.6686\n",
      "        ├── Best until now = 20.4879 (\u001b[32m↘ -0.8193\u001b[0m)\n",
      "        └── Epoch N-1      = 20.4879 (\u001b[32m↘ -0.8193\u001b[0m)\n",
      "\n",
      "===========================================================\n"
     ]
    },
    {
     "name": "stderr",
     "output_type": "stream",
     "text": [
      "Train epoch 21: 100%|██████████| 3/3 [00:01<00:00,  2.58it/s, IoU=0.493, LabelSmoothingCrossEntropyLoss=19.4, gpu_mem=0]\n",
      "Validation epoch 21: 100%|██████████| 3/3 [00:00<00:00,  4.63it/s]\n",
      "Train epoch 22:   0%|          | 0/3 [00:00<?, ?it/s]"
     ]
    },
    {
     "name": "stdout",
     "output_type": "stream",
     "text": [
      "===========================================================\n",
      "SUMMARY OF EPOCH 21\n",
      "├── Training\n",
      "│   ├── Iou = 0.4929\n",
      "│   │   ├── Best until now = 0.4929 (\u001b[37m= 0.0\u001b[0m)\n",
      "│   │   └── Epoch N-1      = 0.4929 (\u001b[37m= 0.0\u001b[0m)\n",
      "│   └── Labelsmoothingcrossentropyloss = 19.4483\n",
      "│       ├── Best until now = 18.6701 (\u001b[31m↗ 0.7782\u001b[0m)\n",
      "│       └── Epoch N-1      = 20.57  (\u001b[32m↘ -1.1218\u001b[0m)\n",
      "└── Validation\n",
      "    ├── Iou = 0.4929\n",
      "    │   ├── Best until now = 0.4929 (\u001b[37m= 0.0\u001b[0m)\n",
      "    │   └── Epoch N-1      = 0.4929 (\u001b[37m= 0.0\u001b[0m)\n",
      "    └── Labelsmoothingcrossentropyloss = 19.2563\n",
      "        ├── Best until now = 19.6686 (\u001b[32m↘ -0.4123\u001b[0m)\n",
      "        └── Epoch N-1      = 19.6686 (\u001b[32m↘ -0.4123\u001b[0m)\n",
      "\n",
      "===========================================================\n"
     ]
    },
    {
     "name": "stderr",
     "output_type": "stream",
     "text": [
      "Train epoch 22: 100%|██████████| 3/3 [00:01<00:00,  2.67it/s, IoU=0.493, LabelSmoothingCrossEntropyLoss=18.8, gpu_mem=0]\n",
      "Validation epoch 22: 100%|██████████| 3/3 [00:00<00:00,  4.87it/s]\n",
      "Train epoch 23:   0%|          | 0/3 [00:00<?, ?it/s]"
     ]
    },
    {
     "name": "stdout",
     "output_type": "stream",
     "text": [
      "===========================================================\n",
      "SUMMARY OF EPOCH 22\n",
      "├── Training\n",
      "│   ├── Iou = 0.4929\n",
      "│   │   ├── Best until now = 0.4929 (\u001b[37m= 0.0\u001b[0m)\n",
      "│   │   └── Epoch N-1      = 0.4929 (\u001b[37m= 0.0\u001b[0m)\n",
      "│   └── Labelsmoothingcrossentropyloss = 18.8478\n",
      "│       ├── Best until now = 18.6701 (\u001b[31m↗ 0.1777\u001b[0m)\n",
      "│       └── Epoch N-1      = 19.4483 (\u001b[32m↘ -0.6005\u001b[0m)\n",
      "└── Validation\n",
      "    ├── Iou = 0.4929\n",
      "    │   ├── Best until now = 0.4929 (\u001b[37m= 0.0\u001b[0m)\n",
      "    │   └── Epoch N-1      = 0.4929 (\u001b[37m= 0.0\u001b[0m)\n",
      "    └── Labelsmoothingcrossentropyloss = 18.8146\n",
      "        ├── Best until now = 19.2563 (\u001b[32m↘ -0.4418\u001b[0m)\n",
      "        └── Epoch N-1      = 19.2563 (\u001b[32m↘ -0.4418\u001b[0m)\n",
      "\n",
      "===========================================================\n"
     ]
    },
    {
     "name": "stderr",
     "output_type": "stream",
     "text": [
      "Train epoch 23: 100%|██████████| 3/3 [00:01<00:00,  2.74it/s, IoU=0.493, LabelSmoothingCrossEntropyLoss=18.8, gpu_mem=0]\n",
      "Validation epoch 23: 100%|██████████| 3/3 [00:00<00:00,  4.61it/s]\n",
      "Train epoch 24:   0%|          | 0/3 [00:00<?, ?it/s]"
     ]
    },
    {
     "name": "stdout",
     "output_type": "stream",
     "text": [
      "===========================================================\n",
      "SUMMARY OF EPOCH 23\n",
      "├── Training\n",
      "│   ├── Iou = 0.4929\n",
      "│   │   ├── Best until now = 0.4929 (\u001b[37m= 0.0\u001b[0m)\n",
      "│   │   └── Epoch N-1      = 0.4929 (\u001b[37m= 0.0\u001b[0m)\n",
      "│   └── Labelsmoothingcrossentropyloss = 18.8172\n",
      "│       ├── Best until now = 18.6701 (\u001b[31m↗ 0.1472\u001b[0m)\n",
      "│       └── Epoch N-1      = 18.8478 (\u001b[32m↘ -0.0306\u001b[0m)\n",
      "└── Validation\n",
      "    ├── Iou = 0.4929\n",
      "    │   ├── Best until now = 0.4929 (\u001b[37m= 0.0\u001b[0m)\n",
      "    │   └── Epoch N-1      = 0.4929 (\u001b[37m= 0.0\u001b[0m)\n",
      "    └── Labelsmoothingcrossentropyloss = 19.03\n",
      "        ├── Best until now = 18.8146 (\u001b[31m↗ 0.2155\u001b[0m)\n",
      "        └── Epoch N-1      = 18.8146 (\u001b[31m↗ 0.2155\u001b[0m)\n",
      "\n",
      "===========================================================\n"
     ]
    },
    {
     "name": "stderr",
     "output_type": "stream",
     "text": [
      "Train epoch 24: 100%|██████████| 3/3 [00:01<00:00,  2.77it/s, IoU=0.493, LabelSmoothingCrossEntropyLoss=18.6, gpu_mem=0]\n",
      "Validation epoch 24:  67%|██████▋   | 2/3 [00:00<00:00,  3.81it/s]"
     ]
    },
    {
     "name": "stderr",
     "output_type": "stream",
     "text": [
      "Validation epoch 24: 100%|██████████| 3/3 [00:00<00:00,  4.59it/s]\n",
      "[2023-05-29 11:35:48] INFO - base_sg_logger.py - [CLEANUP] - Successfully stopped system monitoring process\n"
     ]
    },
    {
     "name": "stdout",
     "output_type": "stream",
     "text": [
      "===========================================================\n",
      "SUMMARY OF EPOCH 24\n",
      "├── Training\n",
      "│   ├── Iou = 0.4929\n",
      "│   │   ├── Best until now = 0.4929 (\u001b[37m= 0.0\u001b[0m)\n",
      "│   │   └── Epoch N-1      = 0.4929 (\u001b[37m= 0.0\u001b[0m)\n",
      "│   └── Labelsmoothingcrossentropyloss = 18.5885\n",
      "│       ├── Best until now = 18.6701 (\u001b[32m↘ -0.0815\u001b[0m)\n",
      "│       └── Epoch N-1      = 18.8172 (\u001b[32m↘ -0.2287\u001b[0m)\n",
      "└── Validation\n",
      "    ├── Iou = 0.4929\n",
      "    │   ├── Best until now = 0.4929 (\u001b[37m= 0.0\u001b[0m)\n",
      "    │   └── Epoch N-1      = 0.4929 (\u001b[37m= 0.0\u001b[0m)\n",
      "    └── Labelsmoothingcrossentropyloss = 19.2271\n",
      "        ├── Best until now = 18.8146 (\u001b[31m↗ 0.4125\u001b[0m)\n",
      "        └── Epoch N-1      = 19.03  (\u001b[31m↗ 0.197\u001b[0m)\n",
      "\n",
      "===========================================================\n"
     ]
    }
   ],
   "source": [
    "trainer.train(model=model, training_params=train_params, train_loader=train_dataloader, valid_loader=val_dataloader)"
   ]
  },
  {
   "cell_type": "code",
   "execution_count": 138,
   "metadata": {},
   "outputs": [],
   "source": [
    "torch.save(model, \"model.pth\")"
   ]
  },
  {
   "cell_type": "code",
   "execution_count": 139,
   "metadata": {},
   "outputs": [
    {
     "data": {
      "text/plain": [
       "PPLiteSegT(\n",
       "  (encoder): PPLiteSegEncoder(\n",
       "    (backbone): STDC1Backbone(\n",
       "      (stages): ModuleDict(\n",
       "        (block_s2): Sequential(\n",
       "          (0): ConvBNReLU(\n",
       "            (seq): Sequential(\n",
       "              (conv): Conv2d(3, 32, kernel_size=(3, 3), stride=(2, 2), padding=(1, 1), bias=False)\n",
       "              (bn): BatchNorm2d(32, eps=1e-05, momentum=0.1, affine=True, track_running_stats=True)\n",
       "              (act): ReLU()\n",
       "            )\n",
       "          )\n",
       "        )\n",
       "        (block_s4): Sequential(\n",
       "          (0): ConvBNReLU(\n",
       "            (seq): Sequential(\n",
       "              (conv): Conv2d(32, 64, kernel_size=(3, 3), stride=(2, 2), padding=(1, 1), bias=False)\n",
       "              (bn): BatchNorm2d(64, eps=1e-05, momentum=0.1, affine=True, track_running_stats=True)\n",
       "              (act): ReLU()\n",
       "            )\n",
       "          )\n",
       "        )\n",
       "        (block_s8): Sequential(\n",
       "          (0): STDCBlock(\n",
       "            (conv_list): ModuleList(\n",
       "              (0): ConvBNReLU(\n",
       "                (seq): Sequential(\n",
       "                  (conv): Conv2d(64, 128, kernel_size=(1, 1), stride=(1, 1), bias=False)\n",
       "                  (bn): BatchNorm2d(128, eps=1e-05, momentum=0.1, affine=True, track_running_stats=True)\n",
       "                  (act): ReLU()\n",
       "                )\n",
       "              )\n",
       "              (1): Sequential(\n",
       "                (0): ConvBNReLU(\n",
       "                  (seq): Sequential(\n",
       "                    (conv): Conv2d(128, 128, kernel_size=(3, 3), stride=(2, 2), padding=(1, 1), groups=128, bias=False)\n",
       "                    (bn): BatchNorm2d(128, eps=1e-05, momentum=0.1, affine=True, track_running_stats=True)\n",
       "                  )\n",
       "                )\n",
       "                (1): ConvBNReLU(\n",
       "                  (seq): Sequential(\n",
       "                    (conv): Conv2d(128, 64, kernel_size=(3, 3), stride=(1, 1), padding=(1, 1), bias=False)\n",
       "                    (bn): BatchNorm2d(64, eps=1e-05, momentum=0.1, affine=True, track_running_stats=True)\n",
       "                    (act): ReLU()\n",
       "                  )\n",
       "                )\n",
       "              )\n",
       "              (2): ConvBNReLU(\n",
       "                (seq): Sequential(\n",
       "                  (conv): Conv2d(64, 32, kernel_size=(3, 3), stride=(1, 1), padding=(1, 1), bias=False)\n",
       "                  (bn): BatchNorm2d(32, eps=1e-05, momentum=0.1, affine=True, track_running_stats=True)\n",
       "                  (act): ReLU()\n",
       "                )\n",
       "              )\n",
       "              (3): ConvBNReLU(\n",
       "                (seq): Sequential(\n",
       "                  (conv): Conv2d(32, 32, kernel_size=(3, 3), stride=(1, 1), padding=(1, 1), bias=False)\n",
       "                  (bn): BatchNorm2d(32, eps=1e-05, momentum=0.1, affine=True, track_running_stats=True)\n",
       "                  (act): ReLU()\n",
       "                )\n",
       "              )\n",
       "            )\n",
       "            (skip_step1): AvgPool2d(kernel_size=3, stride=2, padding=1)\n",
       "          )\n",
       "          (1): STDCBlock(\n",
       "            (conv_list): ModuleList(\n",
       "              (0): ConvBNReLU(\n",
       "                (seq): Sequential(\n",
       "                  (conv): Conv2d(256, 128, kernel_size=(1, 1), stride=(1, 1), bias=False)\n",
       "                  (bn): BatchNorm2d(128, eps=1e-05, momentum=0.1, affine=True, track_running_stats=True)\n",
       "                  (act): ReLU()\n",
       "                )\n",
       "              )\n",
       "              (1): ConvBNReLU(\n",
       "                (seq): Sequential(\n",
       "                  (conv): Conv2d(128, 64, kernel_size=(3, 3), stride=(1, 1), padding=(1, 1), bias=False)\n",
       "                  (bn): BatchNorm2d(64, eps=1e-05, momentum=0.1, affine=True, track_running_stats=True)\n",
       "                  (act): ReLU()\n",
       "                )\n",
       "              )\n",
       "              (2): ConvBNReLU(\n",
       "                (seq): Sequential(\n",
       "                  (conv): Conv2d(64, 32, kernel_size=(3, 3), stride=(1, 1), padding=(1, 1), bias=False)\n",
       "                  (bn): BatchNorm2d(32, eps=1e-05, momentum=0.1, affine=True, track_running_stats=True)\n",
       "                  (act): ReLU()\n",
       "                )\n",
       "              )\n",
       "              (3): ConvBNReLU(\n",
       "                (seq): Sequential(\n",
       "                  (conv): Conv2d(32, 32, kernel_size=(3, 3), stride=(1, 1), padding=(1, 1), bias=False)\n",
       "                  (bn): BatchNorm2d(32, eps=1e-05, momentum=0.1, affine=True, track_running_stats=True)\n",
       "                  (act): ReLU()\n",
       "                )\n",
       "              )\n",
       "            )\n",
       "            (skip_step1): Residual()\n",
       "          )\n",
       "        )\n",
       "        (block_s16): Sequential(\n",
       "          (0): STDCBlock(\n",
       "            (conv_list): ModuleList(\n",
       "              (0): ConvBNReLU(\n",
       "                (seq): Sequential(\n",
       "                  (conv): Conv2d(256, 256, kernel_size=(1, 1), stride=(1, 1), bias=False)\n",
       "                  (bn): BatchNorm2d(256, eps=1e-05, momentum=0.1, affine=True, track_running_stats=True)\n",
       "                  (act): ReLU()\n",
       "                )\n",
       "              )\n",
       "              (1): Sequential(\n",
       "                (0): ConvBNReLU(\n",
       "                  (seq): Sequential(\n",
       "                    (conv): Conv2d(256, 256, kernel_size=(3, 3), stride=(2, 2), padding=(1, 1), groups=256, bias=False)\n",
       "                    (bn): BatchNorm2d(256, eps=1e-05, momentum=0.1, affine=True, track_running_stats=True)\n",
       "                  )\n",
       "                )\n",
       "                (1): ConvBNReLU(\n",
       "                  (seq): Sequential(\n",
       "                    (conv): Conv2d(256, 128, kernel_size=(3, 3), stride=(1, 1), padding=(1, 1), bias=False)\n",
       "                    (bn): BatchNorm2d(128, eps=1e-05, momentum=0.1, affine=True, track_running_stats=True)\n",
       "                    (act): ReLU()\n",
       "                  )\n",
       "                )\n",
       "              )\n",
       "              (2): ConvBNReLU(\n",
       "                (seq): Sequential(\n",
       "                  (conv): Conv2d(128, 64, kernel_size=(3, 3), stride=(1, 1), padding=(1, 1), bias=False)\n",
       "                  (bn): BatchNorm2d(64, eps=1e-05, momentum=0.1, affine=True, track_running_stats=True)\n",
       "                  (act): ReLU()\n",
       "                )\n",
       "              )\n",
       "              (3): ConvBNReLU(\n",
       "                (seq): Sequential(\n",
       "                  (conv): Conv2d(64, 64, kernel_size=(3, 3), stride=(1, 1), padding=(1, 1), bias=False)\n",
       "                  (bn): BatchNorm2d(64, eps=1e-05, momentum=0.1, affine=True, track_running_stats=True)\n",
       "                  (act): ReLU()\n",
       "                )\n",
       "              )\n",
       "            )\n",
       "            (skip_step1): AvgPool2d(kernel_size=3, stride=2, padding=1)\n",
       "          )\n",
       "          (1): STDCBlock(\n",
       "            (conv_list): ModuleList(\n",
       "              (0): ConvBNReLU(\n",
       "                (seq): Sequential(\n",
       "                  (conv): Conv2d(512, 256, kernel_size=(1, 1), stride=(1, 1), bias=False)\n",
       "                  (bn): BatchNorm2d(256, eps=1e-05, momentum=0.1, affine=True, track_running_stats=True)\n",
       "                  (act): ReLU()\n",
       "                )\n",
       "              )\n",
       "              (1): ConvBNReLU(\n",
       "                (seq): Sequential(\n",
       "                  (conv): Conv2d(256, 128, kernel_size=(3, 3), stride=(1, 1), padding=(1, 1), bias=False)\n",
       "                  (bn): BatchNorm2d(128, eps=1e-05, momentum=0.1, affine=True, track_running_stats=True)\n",
       "                  (act): ReLU()\n",
       "                )\n",
       "              )\n",
       "              (2): ConvBNReLU(\n",
       "                (seq): Sequential(\n",
       "                  (conv): Conv2d(128, 64, kernel_size=(3, 3), stride=(1, 1), padding=(1, 1), bias=False)\n",
       "                  (bn): BatchNorm2d(64, eps=1e-05, momentum=0.1, affine=True, track_running_stats=True)\n",
       "                  (act): ReLU()\n",
       "                )\n",
       "              )\n",
       "              (3): ConvBNReLU(\n",
       "                (seq): Sequential(\n",
       "                  (conv): Conv2d(64, 64, kernel_size=(3, 3), stride=(1, 1), padding=(1, 1), bias=False)\n",
       "                  (bn): BatchNorm2d(64, eps=1e-05, momentum=0.1, affine=True, track_running_stats=True)\n",
       "                  (act): ReLU()\n",
       "                )\n",
       "              )\n",
       "            )\n",
       "            (skip_step1): Residual()\n",
       "          )\n",
       "        )\n",
       "        (block_s32): Sequential(\n",
       "          (0): STDCBlock(\n",
       "            (conv_list): ModuleList(\n",
       "              (0): ConvBNReLU(\n",
       "                (seq): Sequential(\n",
       "                  (conv): Conv2d(512, 512, kernel_size=(1, 1), stride=(1, 1), bias=False)\n",
       "                  (bn): BatchNorm2d(512, eps=1e-05, momentum=0.1, affine=True, track_running_stats=True)\n",
       "                  (act): ReLU()\n",
       "                )\n",
       "              )\n",
       "              (1): Sequential(\n",
       "                (0): ConvBNReLU(\n",
       "                  (seq): Sequential(\n",
       "                    (conv): Conv2d(512, 512, kernel_size=(3, 3), stride=(2, 2), padding=(1, 1), groups=512, bias=False)\n",
       "                    (bn): BatchNorm2d(512, eps=1e-05, momentum=0.1, affine=True, track_running_stats=True)\n",
       "                  )\n",
       "                )\n",
       "                (1): ConvBNReLU(\n",
       "                  (seq): Sequential(\n",
       "                    (conv): Conv2d(512, 256, kernel_size=(3, 3), stride=(1, 1), padding=(1, 1), bias=False)\n",
       "                    (bn): BatchNorm2d(256, eps=1e-05, momentum=0.1, affine=True, track_running_stats=True)\n",
       "                    (act): ReLU()\n",
       "                  )\n",
       "                )\n",
       "              )\n",
       "              (2): ConvBNReLU(\n",
       "                (seq): Sequential(\n",
       "                  (conv): Conv2d(256, 128, kernel_size=(3, 3), stride=(1, 1), padding=(1, 1), bias=False)\n",
       "                  (bn): BatchNorm2d(128, eps=1e-05, momentum=0.1, affine=True, track_running_stats=True)\n",
       "                  (act): ReLU()\n",
       "                )\n",
       "              )\n",
       "              (3): ConvBNReLU(\n",
       "                (seq): Sequential(\n",
       "                  (conv): Conv2d(128, 128, kernel_size=(3, 3), stride=(1, 1), padding=(1, 1), bias=False)\n",
       "                  (bn): BatchNorm2d(128, eps=1e-05, momentum=0.1, affine=True, track_running_stats=True)\n",
       "                  (act): ReLU()\n",
       "                )\n",
       "              )\n",
       "            )\n",
       "            (skip_step1): AvgPool2d(kernel_size=3, stride=2, padding=1)\n",
       "          )\n",
       "          (1): STDCBlock(\n",
       "            (conv_list): ModuleList(\n",
       "              (0): ConvBNReLU(\n",
       "                (seq): Sequential(\n",
       "                  (conv): Conv2d(1024, 512, kernel_size=(1, 1), stride=(1, 1), bias=False)\n",
       "                  (bn): BatchNorm2d(512, eps=1e-05, momentum=0.1, affine=True, track_running_stats=True)\n",
       "                  (act): ReLU()\n",
       "                )\n",
       "              )\n",
       "              (1): ConvBNReLU(\n",
       "                (seq): Sequential(\n",
       "                  (conv): Conv2d(512, 256, kernel_size=(3, 3), stride=(1, 1), padding=(1, 1), bias=False)\n",
       "                  (bn): BatchNorm2d(256, eps=1e-05, momentum=0.1, affine=True, track_running_stats=True)\n",
       "                  (act): ReLU()\n",
       "                )\n",
       "              )\n",
       "              (2): ConvBNReLU(\n",
       "                (seq): Sequential(\n",
       "                  (conv): Conv2d(256, 128, kernel_size=(3, 3), stride=(1, 1), padding=(1, 1), bias=False)\n",
       "                  (bn): BatchNorm2d(128, eps=1e-05, momentum=0.1, affine=True, track_running_stats=True)\n",
       "                  (act): ReLU()\n",
       "                )\n",
       "              )\n",
       "              (3): ConvBNReLU(\n",
       "                (seq): Sequential(\n",
       "                  (conv): Conv2d(128, 128, kernel_size=(3, 3), stride=(1, 1), padding=(1, 1), bias=False)\n",
       "                  (bn): BatchNorm2d(128, eps=1e-05, momentum=0.1, affine=True, track_running_stats=True)\n",
       "                  (act): ReLU()\n",
       "                )\n",
       "              )\n",
       "            )\n",
       "            (skip_step1): Residual()\n",
       "          )\n",
       "        )\n",
       "      )\n",
       "    )\n",
       "    (context_module): SPPM(\n",
       "      (branches): ModuleList(\n",
       "        (0): Sequential(\n",
       "          (0): AdaptiveAvgPool2d(output_size=1)\n",
       "          (1): ConvBNReLU(\n",
       "            (seq): Sequential(\n",
       "              (conv): Conv2d(1024, 128, kernel_size=(1, 1), stride=(1, 1), bias=False)\n",
       "              (bn): BatchNorm2d(128, eps=1e-05, momentum=0.1, affine=True, track_running_stats=True)\n",
       "              (act): ReLU()\n",
       "            )\n",
       "          )\n",
       "        )\n",
       "        (1): Sequential(\n",
       "          (0): AdaptiveAvgPool2d(output_size=2)\n",
       "          (1): ConvBNReLU(\n",
       "            (seq): Sequential(\n",
       "              (conv): Conv2d(1024, 128, kernel_size=(1, 1), stride=(1, 1), bias=False)\n",
       "              (bn): BatchNorm2d(128, eps=1e-05, momentum=0.1, affine=True, track_running_stats=True)\n",
       "              (act): ReLU()\n",
       "            )\n",
       "          )\n",
       "        )\n",
       "        (2): Sequential(\n",
       "          (0): AdaptiveAvgPool2d(output_size=4)\n",
       "          (1): ConvBNReLU(\n",
       "            (seq): Sequential(\n",
       "              (conv): Conv2d(1024, 128, kernel_size=(1, 1), stride=(1, 1), bias=False)\n",
       "              (bn): BatchNorm2d(128, eps=1e-05, momentum=0.1, affine=True, track_running_stats=True)\n",
       "              (act): ReLU()\n",
       "            )\n",
       "          )\n",
       "        )\n",
       "      )\n",
       "      (conv_out): ConvBNReLU(\n",
       "        (seq): Sequential(\n",
       "          (conv): Conv2d(128, 128, kernel_size=(3, 3), stride=(1, 1), padding=(1, 1), bias=False)\n",
       "          (bn): BatchNorm2d(128, eps=1e-05, momentum=0.1, affine=True, track_running_stats=True)\n",
       "          (act): ReLU()\n",
       "        )\n",
       "      )\n",
       "    )\n",
       "    (proj_convs): ModuleList(\n",
       "      (0): ConvBNReLU(\n",
       "        (seq): Sequential(\n",
       "          (conv): Conv2d(256, 64, kernel_size=(3, 3), stride=(1, 1), padding=(1, 1), bias=False)\n",
       "          (bn): BatchNorm2d(64, eps=1e-05, momentum=0.1, affine=True, track_running_stats=True)\n",
       "          (act): ReLU()\n",
       "        )\n",
       "      )\n",
       "      (1): ConvBNReLU(\n",
       "        (seq): Sequential(\n",
       "          (conv): Conv2d(512, 128, kernel_size=(3, 3), stride=(1, 1), padding=(1, 1), bias=False)\n",
       "          (bn): BatchNorm2d(128, eps=1e-05, momentum=0.1, affine=True, track_running_stats=True)\n",
       "          (act): ReLU()\n",
       "        )\n",
       "      )\n",
       "      (2): ConvBNReLU(\n",
       "        (seq): Sequential(\n",
       "          (conv): Conv2d(1024, 128, kernel_size=(3, 3), stride=(1, 1), padding=(1, 1), bias=False)\n",
       "          (bn): BatchNorm2d(128, eps=1e-05, momentum=0.1, affine=True, track_running_stats=True)\n",
       "          (act): ReLU()\n",
       "        )\n",
       "      )\n",
       "    )\n",
       "  )\n",
       "  (decoder): PPLiteSegDecoder(\n",
       "    (up_stages): ModuleList(\n",
       "      (0): UAFM(\n",
       "        (conv_atten): Sequential(\n",
       "          (0): ConvBNReLU(\n",
       "            (seq): Sequential(\n",
       "              (conv): Conv2d(4, 2, kernel_size=(3, 3), stride=(1, 1), padding=(1, 1), bias=False)\n",
       "              (bn): BatchNorm2d(2, eps=1e-05, momentum=0.1, affine=True, track_running_stats=True)\n",
       "              (act): ReLU()\n",
       "            )\n",
       "          )\n",
       "          (1): ConvBNReLU(\n",
       "            (seq): Sequential(\n",
       "              (conv): Conv2d(2, 1, kernel_size=(3, 3), stride=(1, 1), padding=(1, 1), bias=False)\n",
       "              (bn): BatchNorm2d(1, eps=1e-05, momentum=0.1, affine=True, track_running_stats=True)\n",
       "            )\n",
       "          )\n",
       "        )\n",
       "        (proj_skip): Identity()\n",
       "        (up_x): Identity()\n",
       "        (conv_out): ConvBNReLU(\n",
       "          (seq): Sequential(\n",
       "            (conv): Conv2d(128, 128, kernel_size=(3, 3), stride=(1, 1), padding=(1, 1), bias=False)\n",
       "            (bn): BatchNorm2d(128, eps=1e-05, momentum=0.1, affine=True, track_running_stats=True)\n",
       "            (act): ReLU()\n",
       "          )\n",
       "        )\n",
       "      )\n",
       "      (1): UAFM(\n",
       "        (conv_atten): Sequential(\n",
       "          (0): ConvBNReLU(\n",
       "            (seq): Sequential(\n",
       "              (conv): Conv2d(4, 2, kernel_size=(3, 3), stride=(1, 1), padding=(1, 1), bias=False)\n",
       "              (bn): BatchNorm2d(2, eps=1e-05, momentum=0.1, affine=True, track_running_stats=True)\n",
       "              (act): ReLU()\n",
       "            )\n",
       "          )\n",
       "          (1): ConvBNReLU(\n",
       "            (seq): Sequential(\n",
       "              (conv): Conv2d(2, 1, kernel_size=(3, 3), stride=(1, 1), padding=(1, 1), bias=False)\n",
       "              (bn): BatchNorm2d(1, eps=1e-05, momentum=0.1, affine=True, track_running_stats=True)\n",
       "            )\n",
       "          )\n",
       "        )\n",
       "        (proj_skip): Identity()\n",
       "        (up_x): Upsample(scale_factor=2.0, mode=bilinear)\n",
       "        (conv_out): ConvBNReLU(\n",
       "          (seq): Sequential(\n",
       "            (conv): Conv2d(128, 64, kernel_size=(3, 3), stride=(1, 1), padding=(1, 1), bias=False)\n",
       "            (bn): BatchNorm2d(64, eps=1e-05, momentum=0.1, affine=True, track_running_stats=True)\n",
       "            (act): ReLU()\n",
       "          )\n",
       "        )\n",
       "      )\n",
       "      (2): UAFM(\n",
       "        (conv_atten): Sequential(\n",
       "          (0): ConvBNReLU(\n",
       "            (seq): Sequential(\n",
       "              (conv): Conv2d(4, 2, kernel_size=(3, 3), stride=(1, 1), padding=(1, 1), bias=False)\n",
       "              (bn): BatchNorm2d(2, eps=1e-05, momentum=0.1, affine=True, track_running_stats=True)\n",
       "              (act): ReLU()\n",
       "            )\n",
       "          )\n",
       "          (1): ConvBNReLU(\n",
       "            (seq): Sequential(\n",
       "              (conv): Conv2d(2, 1, kernel_size=(3, 3), stride=(1, 1), padding=(1, 1), bias=False)\n",
       "              (bn): BatchNorm2d(1, eps=1e-05, momentum=0.1, affine=True, track_running_stats=True)\n",
       "            )\n",
       "          )\n",
       "        )\n",
       "        (proj_skip): Identity()\n",
       "        (up_x): Upsample(scale_factor=2.0, mode=bilinear)\n",
       "        (conv_out): ConvBNReLU(\n",
       "          (seq): Sequential(\n",
       "            (conv): Conv2d(64, 32, kernel_size=(3, 3), stride=(1, 1), padding=(1, 1), bias=False)\n",
       "            (bn): BatchNorm2d(32, eps=1e-05, momentum=0.1, affine=True, track_running_stats=True)\n",
       "            (act): ReLU()\n",
       "          )\n",
       "        )\n",
       "      )\n",
       "    )\n",
       "  )\n",
       "  (seg_head): Sequential(\n",
       "    (0): SegmentationHead(\n",
       "      (seg_head): Sequential(\n",
       "        (0): ConvBNReLU(\n",
       "          (seq): Sequential(\n",
       "            (conv): Conv2d(32, 32, kernel_size=(3, 3), stride=(1, 1), padding=(1, 1), bias=False)\n",
       "            (bn): BatchNorm2d(32, eps=1e-05, momentum=0.1, affine=True, track_running_stats=True)\n",
       "            (act): ReLU()\n",
       "          )\n",
       "        )\n",
       "        (1): Dropout(p=0.0, inplace=False)\n",
       "        (2): Conv2d(32, 1, kernel_size=(1, 1), stride=(1, 1), bias=False)\n",
       "      )\n",
       "    )\n",
       "    (1): Upsample(scale_factor=8.0, mode=bilinear)\n",
       "  )\n",
       ")"
      ]
     },
     "execution_count": 139,
     "metadata": {},
     "output_type": "execute_result"
    }
   ],
   "source": [
    "model = torch.load(\"model.pth\")\n",
    "model.eval()"
   ]
  },
  {
   "cell_type": "code",
   "execution_count": 159,
   "metadata": {},
   "outputs": [
    {
     "data": {
      "image/png": "[encoded data removed]",
      "text/plain": [
       "<PIL.Image.Image image mode=RGB size=255x255>"
      ]
     },
     "metadata": {},
     "output_type": "display_data"
    },
    {
     "data": {
      "image/png": "[encoded data removed]",
      "text/plain": [
       "<PIL.Image.Image image mode=L size=256x256>"
      ]
     },
     "metadata": {},
     "output_type": "display_data"
    }
   ],
   "source": [
    "from torchvision.transforms import Compose, ToTensor, Resize, Normalize, ToPILImage\n",
    "from PIL import Image\n",
    "import torch\n",
    "\n",
    "pre_proccess = Compose([\n",
    "    ToTensor(),\n",
    "    Resize((256,256))\n",
    "])\n",
    "\n",
    "demo_img_path = \"Data/images/train/Vehicle9_jpg.rf.07e5f5492b72101d235c774e79a4f4f3.jpg\"\n",
    "img = Image.open(demo_img_path)\n",
    "img = Resize(size=(255, 255))(img)\n",
    "display(img)\n",
    "\n",
    "\n",
    "img = pre_proccess(img).unsqueeze(0)\n",
    "mask = model(img)\n",
    "\n",
    " \n",
    "mask = torch.sigmoid(mask).gt(0.5).squeeze()\n",
    "mask = ToPILImage()(mask.float())\n",
    "display(mask)\n"
   ]
  },
  {
   "cell_type": "code",
   "execution_count": null,
   "metadata": {},
   "outputs": [],
   "source": []
  }
 ],
 "metadata": {
  "kernelspec": {
   "display_name": "Python 3",
   "language": "python",
   "name": "python3"
  },
  "language_info": {
   "codemirror_mode": {
    "name": "ipython",
    "version": 3
   },
   "file_extension": ".py",
   "mimetype": "text/x-python",
   "name": "python",
   "nbconvert_exporter": "python",
   "pygments_lexer": "ipython3",
   "version": "3.10.11"
  },
  "orig_nbformat": 4
 },
 "nbformat": 4,
 "nbformat_minor": 2
}
